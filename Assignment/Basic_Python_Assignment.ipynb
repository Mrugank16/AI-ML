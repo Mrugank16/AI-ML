{
  "nbformat": 4,
  "nbformat_minor": 0,
  "metadata": {
    "colab": {
      "provenance": []
    },
    "kernelspec": {
      "name": "python3",
      "display_name": "Python 3"
    },
    "language_info": {
      "name": "python"
    }
  },
  "cells": [
    {
      "cell_type": "markdown",
      "source": [
        "1. Write a Python program to print 'Hello, World!'."
      ],
      "metadata": {
        "id": "WajRJfbpL2sO"
      }
    },
    {
      "cell_type": "code",
      "execution_count": null,
      "metadata": {
        "colab": {
          "base_uri": "https://localhost:8080/"
        },
        "id": "WvlwtDU_LxIp",
        "outputId": "c6b695fd-80ea-4b68-97c8-7ed414bcb220"
      },
      "outputs": [
        {
          "output_type": "stream",
          "name": "stdout",
          "text": [
            "Hello, World!\n"
          ]
        }
      ],
      "source": [
        "def printHello():\n",
        "  print(\"Hello, World!\")\n",
        "\n",
        "printHello()"
      ]
    },
    {
      "cell_type": "markdown",
      "source": [
        "2. Write a Python program to add two numbers.\n"
      ],
      "metadata": {
        "id": "8MEKrFbGMGSV"
      }
    },
    {
      "cell_type": "code",
      "source": [
        "def addTwoNum(a,b):\n",
        "  try:\n",
        "    c=a+b\n",
        "    return c\n",
        "  except:\n",
        "    return \"Error\"\n",
        "\n",
        "a=int(input(\"Enter first number: \"))\n",
        "b=int(input(\"Enter second number: \"))\n",
        "print(addTwoNum(a,b))"
      ],
      "metadata": {
        "colab": {
          "base_uri": "https://localhost:8080/"
        },
        "id": "paHikwUjMBL3",
        "outputId": "e1c55df3-2f65-4d43-a8b3-741198caa3ac"
      },
      "execution_count": null,
      "outputs": [
        {
          "output_type": "stream",
          "name": "stdout",
          "text": [
            "Enter first number: 5\n",
            "Enter second number: 6\n",
            "11\n"
          ]
        }
      ]
    },
    {
      "cell_type": "markdown",
      "source": [
        "3. Write a Python program to find the square root of a number."
      ],
      "metadata": {
        "id": "5yJiS56OM2Zw"
      }
    },
    {
      "cell_type": "code",
      "source": [
        "import math\n",
        "def sqrt(a):\n",
        "  try:\n",
        "    ans=math.sqrt(a)  #or ans=a**0.5\n",
        "    return ans\n",
        "  except:\n",
        "    return \"Error\"\n",
        "\n",
        "a=int(input(\"Enter a number: \"))\n",
        "print(sqrt(a))"
      ],
      "metadata": {
        "colab": {
          "base_uri": "https://localhost:8080/"
        },
        "id": "XbiibBf5M21z",
        "outputId": "17f4239e-a0c0-4354-c4ba-f47036744200"
      },
      "execution_count": null,
      "outputs": [
        {
          "output_type": "stream",
          "name": "stdout",
          "text": [
            "Enter a number: 144\n",
            "12.0\n"
          ]
        }
      ]
    },
    {
      "cell_type": "markdown",
      "source": [
        "4. Write a Python program to calculate the area of a triangle."
      ],
      "metadata": {
        "id": "S2Ujn2JdNRdz"
      }
    },
    {
      "cell_type": "code",
      "source": [
        "def calculateArea(a,b,c):\n",
        "  try:\n",
        "    s=(a+b+c)/2\n",
        "    area=(s*(s-a)*(s-b)*(s-c))**0.5\n",
        "    return area\n",
        "  except:\n",
        "    return \"Error\"\n",
        "\n",
        "a=int(input(\"Enter first side: \"))\n",
        "b=int(input(\"Enter second side: \"))\n",
        "c=int(input(\"Enter third side: \"))\n",
        "print(calculateArea(a,b,c))"
      ],
      "metadata": {
        "colab": {
          "base_uri": "https://localhost:8080/"
        },
        "id": "b1b9UHOHNR8C",
        "outputId": "bd4d314f-cc05-4e14-f046-0c2738b53432"
      },
      "execution_count": null,
      "outputs": [
        {
          "output_type": "stream",
          "name": "stdout",
          "text": [
            "Enter first side: 5\n",
            "Enter second side: 5\n",
            "Enter third side: 5\n",
            "10.825317547305483\n"
          ]
        }
      ]
    },
    {
      "cell_type": "markdown",
      "source": [
        "5. Write a Python program to swap two variables."
      ],
      "metadata": {
        "id": "xfwUVLYsN4B7"
      }
    },
    {
      "cell_type": "code",
      "source": [
        "def swap(a,b):\n",
        "  try:\n",
        "    temp=a\n",
        "    a=b\n",
        "    b=temp\n",
        "    return a,b\n",
        "  except:\n",
        "    return \"Error\"\n",
        "\n",
        "a=input(\"Enter first number: \")\n",
        "b=input(\"Enter second number: \")\n",
        "print(swap(a,b))"
      ],
      "metadata": {
        "colab": {
          "base_uri": "https://localhost:8080/"
        },
        "id": "1twXWkL8N47d",
        "outputId": "4f181814-cf54-46d9-cdca-d92581043078"
      },
      "execution_count": null,
      "outputs": [
        {
          "output_type": "stream",
          "name": "stdout",
          "text": [
            "Enter first number: 654\n",
            "Enter second number: cjbc\n",
            "('cjbc', '654')\n"
          ]
        }
      ]
    },
    {
      "cell_type": "markdown",
      "source": [
        "6. Write a Python program to generate a random number."
      ],
      "metadata": {
        "id": "2LcLztgnOMSB"
      }
    },
    {
      "cell_type": "code",
      "source": [
        "import random\n",
        "\n",
        "def generate():\n",
        "  return random.randint(1,10)\n",
        "\n",
        "print(generate())"
      ],
      "metadata": {
        "colab": {
          "base_uri": "https://localhost:8080/"
        },
        "id": "91NbemYhONmG",
        "outputId": "c4e25e7b-493e-49f6-bb55-e7a495cc3383"
      },
      "execution_count": null,
      "outputs": [
        {
          "output_type": "stream",
          "name": "stdout",
          "text": [
            "5\n"
          ]
        }
      ]
    },
    {
      "cell_type": "markdown",
      "source": [
        "7. Write a Python program to convert kilometers to miles."
      ],
      "metadata": {
        "id": "4WB8Eva_OcAo"
      }
    },
    {
      "cell_type": "code",
      "source": [
        "def convert(n):\n",
        "  try:\n",
        "    m=n*0.621371\n",
        "    return m\n",
        "  except:\n",
        "    return \"Error\"\n",
        "\n",
        "n=int(input(\"Enter distance in kilometers: \"))\n",
        "print(convert(n))"
      ],
      "metadata": {
        "colab": {
          "base_uri": "https://localhost:8080/"
        },
        "id": "6Btaot22Od2j",
        "outputId": "c01091dc-3f99-48f4-e993-4dad9d07c2ab"
      },
      "execution_count": null,
      "outputs": [
        {
          "output_type": "stream",
          "name": "stdout",
          "text": [
            "Enter distance in kilometers: 1\n",
            "0.621371\n"
          ]
        }
      ]
    },
    {
      "cell_type": "markdown",
      "source": [
        "8. Write a Python program to check if a number is positive, negative or zero."
      ],
      "metadata": {
        "id": "JNqBHWthPhwt"
      }
    },
    {
      "cell_type": "code",
      "source": [
        "def check(n):\n",
        "  try:\n",
        "    if n>0:\n",
        "      return \"Positive\"\n",
        "    elif n<0:\n",
        "      return \"Negative\"\n",
        "    else:\n",
        "      return \"Zero\"\n",
        "  except:\n",
        "    return \"Error\"\n",
        "\n",
        "n=int(input(\"Enter a number: \"))\n",
        "print(check(n))"
      ],
      "metadata": {
        "colab": {
          "base_uri": "https://localhost:8080/"
        },
        "id": "htIbHit6Phbh",
        "outputId": "1dbbadf0-e36a-4e67-fa15-e47608435a29"
      },
      "execution_count": null,
      "outputs": [
        {
          "output_type": "stream",
          "name": "stdout",
          "text": [
            "Enter a number: -15\n",
            "Negative\n"
          ]
        }
      ]
    },
    {
      "cell_type": "markdown",
      "source": [
        "9. Write a Python program to check if a number is odd or even."
      ],
      "metadata": {
        "id": "m8i_tzZYPsy8"
      }
    },
    {
      "cell_type": "code",
      "source": [
        "def checkOddEven(n):\n",
        "  try:\n",
        "    if n%2==0:\n",
        "      return \"Even\"\n",
        "    else:\n",
        "      return \"Odd\"\n",
        "  except:\n",
        "    return \"Error\"\n",
        "\n",
        "n=int(input(\"Enter a number: \"))\n",
        "print(checkOddEven(n))"
      ],
      "metadata": {
        "colab": {
          "base_uri": "https://localhost:8080/"
        },
        "id": "1yH5kRncPtRb",
        "outputId": "df39ea44-14b1-41a5-f3c5-e9ab6c8c4d31"
      },
      "execution_count": null,
      "outputs": [
        {
          "output_type": "stream",
          "name": "stdout",
          "text": [
            "Enter a number: 19\n",
            "Odd\n"
          ]
        }
      ]
    },
    {
      "cell_type": "markdown",
      "source": [
        "10. Write a Python program to check if a year is a leap year."
      ],
      "metadata": {
        "id": "HQ3q-rSYP0sm"
      }
    },
    {
      "cell_type": "code",
      "source": [
        "def checkLeap(n):\n",
        "  try:\n",
        "    if n%4==0 and n%100!=0 or n%400==0:\n",
        "      return \"Leap Year\"\n",
        "    else:\n",
        "      return \"Not a Leap Year\"\n",
        "  except:\n",
        "    return \"Error\"\n",
        "\n",
        "n=int(input(\"Enter a year: \"))\n",
        "print(checkLeap(n))"
      ],
      "metadata": {
        "colab": {
          "base_uri": "https://localhost:8080/"
        },
        "id": "znI7D4P4P1SZ",
        "outputId": "3392dab6-5da2-4969-a764-fec280d4a652"
      },
      "execution_count": null,
      "outputs": [
        {
          "output_type": "stream",
          "name": "stdout",
          "text": [
            "Enter a year: 1900\n",
            "Not a Leap Year\n"
          ]
        }
      ]
    },
    {
      "cell_type": "markdown",
      "source": [
        "11. Write a Python program to find the largest of three numbers."
      ],
      "metadata": {
        "id": "MntVE_lzzRe3"
      }
    },
    {
      "cell_type": "code",
      "source": [
        "def findLargest(a,b,c):\n",
        "  if(a>b):\n",
        "    if(a>c):\n",
        "      return a\n",
        "    else:\n",
        "      return c\n",
        "  else:\n",
        "    if(b>c):\n",
        "      return b\n",
        "    else:\n",
        "      return c\n",
        "\n",
        "a=int(input(\"Enter first number: \"))\n",
        "b=int(input(\"Enter second number: \"))\n",
        "c=int(input(\"Enter third number: \"))\n",
        "print(findLargest(a,b,c))"
      ],
      "metadata": {
        "colab": {
          "base_uri": "https://localhost:8080/"
        },
        "id": "lY2nybB7y9v1",
        "outputId": "46cd14a5-bbf4-438a-af64-e684ca96897c"
      },
      "execution_count": null,
      "outputs": [
        {
          "output_type": "stream",
          "name": "stdout",
          "text": [
            "Enter first number: 56\n",
            "Enter second number: 54\n",
            "Enter third number: 12\n",
            "56\n"
          ]
        }
      ]
    },
    {
      "cell_type": "markdown",
      "source": [
        "12. Write a Python program to find the factorial of a number."
      ],
      "metadata": {
        "id": "tLg1BkSGzlKV"
      }
    },
    {
      "cell_type": "code",
      "source": [
        "def findfactorial(n):\n",
        "  if(n==1):\n",
        "    return 1\n",
        "\n",
        "  return n*findfactorial(n-1);\n",
        "\n",
        "n=int(input(\"Enter a number: \"))\n",
        "print(findfactorial(n))"
      ],
      "metadata": {
        "colab": {
          "base_uri": "https://localhost:8080/"
        },
        "id": "UsOeVbO7zSat",
        "outputId": "345ce647-2054-42f4-ab3b-c3f6d9b5fe21"
      },
      "execution_count": null,
      "outputs": [
        {
          "output_type": "stream",
          "name": "stdout",
          "text": [
            "Enter a number: 6\n",
            "720\n"
          ]
        }
      ]
    },
    {
      "cell_type": "markdown",
      "source": [
        "13. Write a Python program to display the multiplication table."
      ],
      "metadata": {
        "id": "esv9zEX8zzXY"
      }
    },
    {
      "cell_type": "code",
      "source": [
        "def displayTable(n):\n",
        "  for i in range(1,11):\n",
        "    print(n,\"X\",i,\"=\",n*i)\n",
        "\n",
        "n=int(input(\"Enter a number: \"))\n",
        "displayTable(n)"
      ],
      "metadata": {
        "colab": {
          "base_uri": "https://localhost:8080/"
        },
        "id": "Y21mkjpjzoWk",
        "outputId": "6b2145c8-eb0d-47e2-a008-cc3efd0e5578"
      },
      "execution_count": null,
      "outputs": [
        {
          "output_type": "stream",
          "name": "stdout",
          "text": [
            "Enter a number: 9\n",
            "9 X 1 = 9\n",
            "9 X 2 = 18\n",
            "9 X 3 = 27\n",
            "9 X 4 = 36\n",
            "9 X 5 = 45\n",
            "9 X 6 = 54\n",
            "9 X 7 = 63\n",
            "9 X 8 = 72\n",
            "9 X 9 = 81\n",
            "9 X 10 = 90\n"
          ]
        }
      ]
    },
    {
      "cell_type": "markdown",
      "source": [
        "14. Write a Python program to print the Fibonacci sequence."
      ],
      "metadata": {
        "id": "a6fgIZgw0RF9"
      }
    },
    {
      "cell_type": "code",
      "source": [
        "def fibo(n):\n",
        "  a=0\n",
        "  b=1\n",
        "  for i in range(n):\n",
        "    c=a+b\n",
        "    a=b\n",
        "    b=c\n",
        "    print(a)\n",
        "\n",
        "n=int(input(\"Enter a number: \"))\n",
        "fibo(n)"
      ],
      "metadata": {
        "colab": {
          "base_uri": "https://localhost:8080/"
        },
        "id": "nycIDGmRzyBs",
        "outputId": "1ac1fc36-2389-4b24-904e-bc9a75c9d1fe"
      },
      "execution_count": null,
      "outputs": [
        {
          "output_type": "stream",
          "name": "stdout",
          "text": [
            "Enter a number: 6\n",
            "1\n",
            "1\n",
            "2\n",
            "3\n",
            "5\n",
            "8\n"
          ]
        }
      ]
    },
    {
      "cell_type": "markdown",
      "source": [
        "15. Write a Python program to check if a number is an Armstrong number."
      ],
      "metadata": {
        "id": "2UO5Hkwa1RMZ"
      }
    },
    {
      "cell_type": "code",
      "source": [
        "def order(n):\n",
        "  a=0\n",
        "  while(n>0):\n",
        "    a=a+1\n",
        "    n=n//10\n",
        "  return a\n",
        "\n",
        "def checkAmstrong(n):\n",
        "  sum=0\n",
        "  temp=n\n",
        "  while(temp>0):\n",
        "    digit=temp%10\n",
        "    sum=sum+digit**order(n)\n",
        "    temp=temp//10\n",
        "  return (sum==n)\n",
        "\n",
        "n=int(input(\"Enter a number: \"))\n",
        "print(checkAmstrong(n))"
      ],
      "metadata": {
        "colab": {
          "base_uri": "https://localhost:8080/"
        },
        "id": "RDq_J8ax1R4P",
        "outputId": "1a6a529c-ab3f-41b1-8a3e-9978ee89374c"
      },
      "execution_count": null,
      "outputs": [
        {
          "output_type": "stream",
          "name": "stdout",
          "text": [
            "Enter a number: 1634\n",
            "True\n"
          ]
        }
      ]
    },
    {
      "cell_type": "markdown",
      "source": [
        "16. Write a Python program to find the sum of natural numbers."
      ],
      "metadata": {
        "id": "YmUkdMpA3dFX"
      }
    },
    {
      "cell_type": "code",
      "source": [
        "def sumNaturals(n):\n",
        "  if(n==1):\n",
        "    return 1;\n",
        "\n",
        "  return n+sumNaturals(n-1);\n",
        "\n",
        "n=int(input(\"Enter a number: \"))\n",
        "print(sumNaturals(n))"
      ],
      "metadata": {
        "colab": {
          "base_uri": "https://localhost:8080/"
        },
        "id": "xrZLXfHG3crr",
        "outputId": "705393c9-0d6a-4bb1-a9cf-a1549fc85a8e"
      },
      "execution_count": null,
      "outputs": [
        {
          "output_type": "stream",
          "name": "stdout",
          "text": [
            "Enter a number: 20\n",
            "210\n"
          ]
        }
      ]
    },
    {
      "cell_type": "markdown",
      "source": [
        "17. Write a Python program to find the sum of digits of a number."
      ],
      "metadata": {
        "id": "Kf8vpFkK3wFC"
      }
    },
    {
      "cell_type": "code",
      "source": [
        "def sumOfDigits(n):\n",
        "  sum=0\n",
        "  while(n>0):\n",
        "    sum=sum+n%10\n",
        "    n=n//10\n",
        "  return sum\n",
        "\n",
        "n=int(input(\"Enter a number: \"))\n",
        "print(sumOfDigits(n))"
      ],
      "metadata": {
        "colab": {
          "base_uri": "https://localhost:8080/"
        },
        "id": "HCBtZ6383wuf",
        "outputId": "f4b248ec-9e7e-4e51-a526-42c413517d35"
      },
      "execution_count": null,
      "outputs": [
        {
          "output_type": "stream",
          "name": "stdout",
          "text": [
            "Enter a number: 654\n",
            "15\n"
          ]
        }
      ]
    },
    {
      "cell_type": "markdown",
      "source": [
        "18. Write a Python program to reverse a number."
      ],
      "metadata": {
        "id": "H_gPe6si37DM"
      }
    },
    {
      "cell_type": "code",
      "source": [
        "def reverseNum(n):\n",
        "  rev=0\n",
        "  while(n>0):\n",
        "    rev=rev*10+n%10\n",
        "    n=n//10\n",
        "  return rev\n",
        "\n",
        "n=int(input(\"Enter a number: \"))\n",
        "print(reverseNum(n))"
      ],
      "metadata": {
        "colab": {
          "base_uri": "https://localhost:8080/"
        },
        "id": "rHEUhd0I37mP",
        "outputId": "d9aa9347-8cb6-4519-ef3e-861dcf5712ec"
      },
      "execution_count": null,
      "outputs": [
        {
          "output_type": "stream",
          "name": "stdout",
          "text": [
            "Enter a number: 6548\n",
            "8456\n"
          ]
        }
      ]
    },
    {
      "cell_type": "markdown",
      "source": [
        "19. Write a Python program to convert decimal to binary, octal and hexadecimal."
      ],
      "metadata": {
        "id": "sue-2VbQ4Ev8"
      }
    },
    {
      "cell_type": "code",
      "source": [
        "def convertToBinary(n):\n",
        "  return bin(n)\n",
        "\n",
        "def convertToOctal(n):\n",
        "  return oct(n)\n",
        "\n",
        "def convertToHexadecimal(n):\n",
        "  return hex(n)\n",
        "\n",
        "n=int(input(\"Enter a number: \"))\n",
        "print(convertToBinary(n))\n",
        "print(convertToOctal(n))\n",
        "print(convertToHexadecimal(n))"
      ],
      "metadata": {
        "colab": {
          "base_uri": "https://localhost:8080/"
        },
        "id": "UMRsRgvM4FSu",
        "outputId": "de556ee4-d436-4a8d-fe4e-b165501c1044"
      },
      "execution_count": null,
      "outputs": [
        {
          "output_type": "stream",
          "name": "stdout",
          "text": [
            "Enter a number: 10\n",
            "0b1010\n",
            "0o12\n",
            "0xa\n"
          ]
        }
      ]
    },
    {
      "cell_type": "markdown",
      "source": [
        "20. Write a Python program to find HCF or GCD of two numbers."
      ],
      "metadata": {
        "id": "o1dOdibE4YnB"
      }
    },
    {
      "cell_type": "code",
      "source": [
        "def HCF(a,b):\n",
        "  if(b==0):\n",
        "    return a\n",
        "  else:\n",
        "    return HCF(b,a%b)\n",
        "\n",
        "def GCD(a,b):\n",
        "  while(b!=0):\n",
        "    temp=b\n",
        "    b=a%b\n",
        "    a=temp\n",
        "  return a\n",
        "\n",
        "a=int(input(\"Enter first number: \"))\n",
        "b=int(input(\"Enter second number: \"))\n",
        "print(HCF(a,b))\n",
        "print(GCD(a,b))"
      ],
      "metadata": {
        "colab": {
          "base_uri": "https://localhost:8080/"
        },
        "id": "3Jq5DMad4ZEg",
        "outputId": "c6c1d466-424b-4566-d5c1-0ff77d0f98ba"
      },
      "execution_count": null,
      "outputs": [
        {
          "output_type": "stream",
          "name": "stdout",
          "text": [
            "Enter first number: 12\n",
            "Enter second number: 56\n",
            "4\n",
            "4\n"
          ]
        }
      ]
    },
    {
      "cell_type": "markdown",
      "source": [
        "21. Write a Python program to find LCM of two numbers"
      ],
      "metadata": {
        "id": "eka98848wE_N"
      }
    },
    {
      "cell_type": "code",
      "source": [
        "def gcd(a,b):\n",
        "    if a == 0:\n",
        "        return b\n",
        "    return gcd(b % a, a)\n",
        "\n",
        "def LCM(a,b):\n",
        "  return (a*b)//gcd(a,b)\n",
        "\n",
        "a=int(input(\"Enter first number: \"))\n",
        "b=int(input(\"Enter second number: \"))\n",
        "print(LCM(a,b))\n",
        "\n"
      ],
      "metadata": {
        "colab": {
          "base_uri": "https://localhost:8080/"
        },
        "id": "ICMrWSCNwBhu",
        "outputId": "1cc860ad-a201-44f4-e3a9-adc917630f9f"
      },
      "execution_count": 1,
      "outputs": [
        {
          "output_type": "stream",
          "name": "stdout",
          "text": [
            "Enter first number: 15\n",
            "Enter second number: 20\n",
            "60\n"
          ]
        }
      ]
    },
    {
      "cell_type": "markdown",
      "source": [
        "22. Write a Python program to count the number of each vowel in a string."
      ],
      "metadata": {
        "id": "s2clQx0Wws9R"
      }
    },
    {
      "cell_type": "code",
      "source": [
        "def count(s):\n",
        "  countA=0\n",
        "  countE=0\n",
        "  countI=0\n",
        "  countO=0\n",
        "  countU=0\n",
        "\n",
        "  for i in s:\n",
        "    if(i=='a' or i=='A' ):\n",
        "      countA=countA+1\n",
        "    elif(i=='e' or i=='E' ):\n",
        "      countE=countE+1\n",
        "    elif(i=='i' or i=='I' ):\n",
        "      countI=countI+1\n",
        "    elif(i=='o' or i=='O' ):\n",
        "      countO=countO+1\n",
        "    elif(i=='u' or i=='U' ):\n",
        "      countU=countU+1\n",
        "\n",
        "  return countA,countE,countI,countO,countU\n",
        "\n",
        "s=input(\"Enter a string: \")\n",
        "print(count(s))"
      ],
      "metadata": {
        "colab": {
          "base_uri": "https://localhost:8080/"
        },
        "id": "Eu0BT4rMwqK8",
        "outputId": "67be0904-71fd-41e2-85d5-8ea351c5f77c"
      },
      "execution_count": 3,
      "outputs": [
        {
          "output_type": "stream",
          "name": "stdout",
          "text": [
            "Enter a string: CBA VNCDSAEIOUIOEA\n",
            "(3, 2, 2, 2, 1)\n"
          ]
        }
      ]
    },
    {
      "cell_type": "markdown",
      "source": [
        "23. Write a Python program to remove punctuation from a string."
      ],
      "metadata": {
        "id": "Gr6FXt9ZxI46"
      }
    },
    {
      "cell_type": "code",
      "source": [
        "def remove(s):\n",
        "  punctuations = '''!()-[]{};:'\"\\,<>./?@#$%^&*_~'''\n",
        "  no_punct = \"\"\n",
        "  for char in s:\n",
        "    if char not in punctuations:\n",
        "      no_punct = no_punct + char\n",
        "  return no_punct\n",
        "\n",
        "s=input(\"Enter a string: \")\n",
        "print(remove(s))"
      ],
      "metadata": {
        "colab": {
          "base_uri": "https://localhost:8080/"
        },
        "id": "MEUOYIhyxInF",
        "outputId": "991c7de7-6004-4e4e-dde7-339ef8775a03"
      },
      "execution_count": 4,
      "outputs": [
        {
          "output_type": "stream",
          "name": "stdout",
          "text": [
            "Enter a string: c,jsa;[].'/]vevew\n",
            "cjsavevew\n"
          ]
        }
      ]
    },
    {
      "cell_type": "markdown",
      "source": [
        "24. Write a Python program to sort a list of numbers in ascending order."
      ],
      "metadata": {
        "id": "6y2Lig0bxT5J"
      }
    },
    {
      "cell_type": "code",
      "source": [
        "def sort(li):\n",
        "  li.sort()\n",
        "  return li\n",
        "\n",
        "li=[]\n",
        "n=int(input(\"Enter number of elements: \"))\n",
        "for i in range(0,n):\n",
        "  ele=int(input())\n",
        "  li.append(ele)\n",
        "\n",
        "print(sort(li))"
      ],
      "metadata": {
        "colab": {
          "base_uri": "https://localhost:8080/"
        },
        "id": "q62gxmEVxUpA",
        "outputId": "b89c17d9-68f2-4b9b-958f-a0666ff15dae"
      },
      "execution_count": 5,
      "outputs": [
        {
          "output_type": "stream",
          "name": "stdout",
          "text": [
            "Enter number of elements: 5\n",
            "2\n",
            "3\n",
            "56\n",
            "15\n",
            "91\n",
            "[2, 3, 15, 56, 91]\n"
          ]
        }
      ]
    },
    {
      "cell_type": "markdown",
      "source": [
        "25. Write a Python program to merge two lists and sort it."
      ],
      "metadata": {
        "id": "_ckICBOlxgVp"
      }
    },
    {
      "cell_type": "code",
      "source": [
        "def merge(li1,li2):\n",
        "  li1.extend(li2)\n",
        "  li1.sort()\n",
        "  return li1\n",
        "\n",
        "li1=[]\n",
        "li2=[]\n",
        "n1=int(input(\"Enter number of elements in l1 : \"))\n",
        "for i in range(0,n1):\n",
        "  ele=int(input())\n",
        "  li1.append(ele)\n",
        "\n",
        "n2=int(input(\"Enter number of elements in l2 : \"))\n",
        "for i in range(0,n2):\n",
        "  ele=int(input())\n",
        "  li2.append(ele)\n",
        "\n",
        "print(merge(li1,li2))"
      ],
      "metadata": {
        "colab": {
          "base_uri": "https://localhost:8080/"
        },
        "id": "-ZdEKNSdxcVP",
        "outputId": "4070d6c5-e3c2-4c51-9929-89aa2e8d271f"
      },
      "execution_count": 6,
      "outputs": [
        {
          "output_type": "stream",
          "name": "stdout",
          "text": [
            "Enter number of elements in l1 : 3\n",
            "15\n",
            "16\n",
            "21\n",
            "Enter number of elements in l2 : 2\n",
            "9\n",
            "40\n",
            "[9, 15, 16, 21, 40]\n"
          ]
        }
      ]
    }
  ]
}