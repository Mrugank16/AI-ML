{
  "nbformat": 4,
  "nbformat_minor": 0,
  "metadata": {
    "colab": {
      "provenance": []
    },
    "kernelspec": {
      "name": "python3",
      "display_name": "Python 3"
    },
    "language_info": {
      "name": "python"
    }
  },
  "cells": [
    {
      "cell_type": "code",
      "execution_count": 1,
      "metadata": {
        "id": "ogO6Kifr3R92"
      },
      "outputs": [],
      "source": [
        "import numpy as np"
      ]
    },
    {
      "cell_type": "code",
      "source": [
        "def find_sqrt(x):\n",
        "   return np.sqrt(x)\n",
        "\n",
        "print(find_sqrt(25))\n",
        "print(find_sqrt(100))\n",
        "print(find_sqrt(16))\n",
        "print(find_sqrt(15))\n",
        "print(find_sqrt([15,26,36]))"
      ],
      "metadata": {
        "colab": {
          "base_uri": "https://localhost:8080/"
        },
        "id": "LDpGZ8B96AAj",
        "outputId": "3e2c7644-d724-4de0-cb7f-1d781b2c7b87"
      },
      "execution_count": 10,
      "outputs": [
        {
          "output_type": "stream",
          "name": "stdout",
          "text": [
            "5.0\n",
            "10.0\n",
            "4.0\n",
            "3.872983346207417\n",
            "[3.87298335 5.09901951 6.        ]\n"
          ]
        }
      ]
    },
    {
      "cell_type": "code",
      "source": [
        "def give_min(arr):\n",
        "  return np.amin(arr)\n",
        "\n",
        "print(give_min([1,2,3,4,5,6,7,8,9,10]))\n",
        "print(give_min([10,20,30,40,50,60,70,80,90,100]))"
      ],
      "metadata": {
        "colab": {
          "base_uri": "https://localhost:8080/"
        },
        "id": "kRYB6SeH6GcC",
        "outputId": "4a0f9b65-9908-4fc3-da8f-4e62203a1b42"
      },
      "execution_count": 6,
      "outputs": [
        {
          "output_type": "stream",
          "name": "stdout",
          "text": [
            "1\n",
            "10\n"
          ]
        }
      ]
    },
    {
      "cell_type": "code",
      "source": [
        "def give_max(arr):\n",
        "  return np.amax(arr)\n",
        "\n",
        "print(give_max([1,2,3,4,5,6,7,8,9,10]))"
      ],
      "metadata": {
        "colab": {
          "base_uri": "https://localhost:8080/"
        },
        "id": "2rPRzwzx6Rb3",
        "outputId": "e7076501-c362-4361-85e1-ab564dc9a2fe"
      },
      "execution_count": 7,
      "outputs": [
        {
          "output_type": "stream",
          "name": "stdout",
          "text": [
            "10\n"
          ]
        }
      ]
    },
    {
      "cell_type": "code",
      "source": [
        "def round_off(x):\n",
        "  return np.ceil(x)\n",
        "\n",
        "print(round_off(34.6))\n",
        "print(round_off(50.1))\n",
        "print(round_off(find_sqrt(65)))"
      ],
      "metadata": {
        "colab": {
          "base_uri": "https://localhost:8080/"
        },
        "id": "vLdA2pCm6iWP",
        "outputId": "5bedf496-ab36-40bc-c3c3-7d5f0b7f21de"
      },
      "execution_count": 11,
      "outputs": [
        {
          "output_type": "stream",
          "name": "stdout",
          "text": [
            "35.0\n",
            "51.0\n",
            "9.0\n"
          ]
        }
      ]
    },
    {
      "cell_type": "code",
      "source": [
        "def give_sum(arr):\n",
        "  return np.sum(arr)\n",
        "\n",
        "print(give_sum([1,2,3,4,5,6,7,8,9,10]))\n",
        "print(round_off(give_sum(find_sqrt([1,2,3,4,5,6,7,8,9,10]))))"
      ],
      "metadata": {
        "colab": {
          "base_uri": "https://localhost:8080/"
        },
        "id": "l_Vkxkti6w8F",
        "outputId": "86a86b14-d4f7-4a48-bb77-3ba3cbe57939"
      },
      "execution_count": 13,
      "outputs": [
        {
          "output_type": "stream",
          "name": "stdout",
          "text": [
            "55\n",
            "23.0\n"
          ]
        }
      ]
    },
    {
      "cell_type": "code",
      "source": [
        "arr=np.array([54,64,86])\n",
        "print(arr)\n",
        "print(type(arr))\n",
        "print(len(arr))"
      ],
      "metadata": {
        "colab": {
          "base_uri": "https://localhost:8080/"
        },
        "id": "nM2mAkDB7oZ-",
        "outputId": "266e00ff-cbcb-40fd-d23e-11c8fda675cd"
      },
      "execution_count": 15,
      "outputs": [
        {
          "output_type": "stream",
          "name": "stdout",
          "text": [
            "[54 64 86]\n",
            "<class 'numpy.ndarray'>\n",
            "3\n"
          ]
        }
      ]
    },
    {
      "cell_type": "code",
      "source": [
        "twod_arr = np.array([[1,2,3],[4,5,6],[7,8,9]],dtype=float)\n",
        "print(twod_arr)\n",
        "print(twod_arr.dtype)\n",
        "print(twod_arr.ndim)\n",
        "print(twod_arr.shape)"
      ],
      "metadata": {
        "colab": {
          "base_uri": "https://localhost:8080/"
        },
        "id": "t16FjLMT76WH",
        "outputId": "c8d67cb6-1a15-4973-d1b2-54c57e14a160"
      },
      "execution_count": 23,
      "outputs": [
        {
          "output_type": "stream",
          "name": "stdout",
          "text": [
            "[[1. 2. 3.]\n",
            " [4. 5. 6.]\n",
            " [7. 8. 9.]]\n",
            "float64\n",
            "2\n",
            "(3, 3)\n"
          ]
        }
      ]
    },
    {
      "cell_type": "code",
      "source": [
        "li = [5,84,231,6431]\n",
        "a=np.array(li)\n",
        "print(a)\n",
        "print(type(a))\n",
        "print(a.dtype)"
      ],
      "metadata": {
        "colab": {
          "base_uri": "https://localhost:8080/"
        },
        "id": "qysR_SJn8pB9",
        "outputId": "16fb56b1-42ba-4b12-993f-928c05c2a52e"
      },
      "execution_count": 24,
      "outputs": [
        {
          "output_type": "stream",
          "name": "stdout",
          "text": [
            "[   5   84  231 6431]\n",
            "<class 'numpy.ndarray'>\n",
            "int64\n"
          ]
        }
      ]
    },
    {
      "cell_type": "code",
      "source": [
        "copy_of_a = np.asarray(a)\n",
        "print(copy_of_a)\n",
        "print(type(copy_of_a))\n",
        "print(copy_of_a.dtype)\n",
        "print(copy_of_a.ndim)"
      ],
      "metadata": {
        "colab": {
          "base_uri": "https://localhost:8080/"
        },
        "id": "2g2HLfYP8u4S",
        "outputId": "4c5003c9-887d-4dfe-9699-c4702368a3b1"
      },
      "execution_count": 26,
      "outputs": [
        {
          "output_type": "stream",
          "name": "stdout",
          "text": [
            "[   5   84  231 6431]\n",
            "<class 'numpy.ndarray'>\n",
            "int64\n",
            "1\n"
          ]
        }
      ]
    },
    {
      "cell_type": "code",
      "source": [
        "a=np.arange(15)\n",
        "print(a)"
      ],
      "metadata": {
        "colab": {
          "base_uri": "https://localhost:8080/"
        },
        "id": "wlOVc2Fa84fB",
        "outputId": "44e17342-e739-4fd2-9e7a-a1447c1bcc61"
      },
      "execution_count": 27,
      "outputs": [
        {
          "output_type": "stream",
          "name": "stdout",
          "text": [
            "[ 0  1  2  3  4  5  6  7  8  9 10 11 12 13 14]\n"
          ]
        }
      ]
    },
    {
      "cell_type": "code",
      "source": [
        "a=np.arange(16.15,52.3,5)\n",
        "print(a)"
      ],
      "metadata": {
        "colab": {
          "base_uri": "https://localhost:8080/"
        },
        "id": "ORXZvNpm-Dmi",
        "outputId": "fd923b31-d32b-43d1-8e37-de714026762e"
      },
      "execution_count": 28,
      "outputs": [
        {
          "output_type": "stream",
          "name": "stdout",
          "text": [
            "[16.15 21.15 26.15 31.15 36.15 41.15 46.15 51.15]\n"
          ]
        }
      ]
    },
    {
      "cell_type": "code",
      "source": [
        "a=np.arange(100,64,-3)\n",
        "print(a)"
      ],
      "metadata": {
        "colab": {
          "base_uri": "https://localhost:8080/"
        },
        "id": "xQ63v_7m-NDc",
        "outputId": "d535280a-75dd-436c-aba8-d564ff4ded57"
      },
      "execution_count": 29,
      "outputs": [
        {
          "output_type": "stream",
          "name": "stdout",
          "text": [
            "[100  97  94  91  88  85  82  79  76  73  70  67]\n"
          ]
        }
      ]
    },
    {
      "cell_type": "code",
      "source": [
        "arr,step = np.linspace(6,45,50,endpoint=True,retstep=True)\n",
        "print(arr)\n",
        "print(step)"
      ],
      "metadata": {
        "colab": {
          "base_uri": "https://localhost:8080/"
        },
        "id": "iiuWKsfu-W2L",
        "outputId": "ccedb666-97a6-4952-fca7-8660036be28a"
      },
      "execution_count": 37,
      "outputs": [
        {
          "output_type": "stream",
          "name": "stdout",
          "text": [
            "[ 6.          6.79591837  7.59183673  8.3877551   9.18367347  9.97959184\n",
            " 10.7755102  11.57142857 12.36734694 13.16326531 13.95918367 14.75510204\n",
            " 15.55102041 16.34693878 17.14285714 17.93877551 18.73469388 19.53061224\n",
            " 20.32653061 21.12244898 21.91836735 22.71428571 23.51020408 24.30612245\n",
            " 25.10204082 25.89795918 26.69387755 27.48979592 28.28571429 29.08163265\n",
            " 29.87755102 30.67346939 31.46938776 32.26530612 33.06122449 33.85714286\n",
            " 34.65306122 35.44897959 36.24489796 37.04081633 37.83673469 38.63265306\n",
            " 39.42857143 40.2244898  41.02040816 41.81632653 42.6122449  43.40816327\n",
            " 44.20408163 45.        ]\n",
            "0.7959183673469388\n"
          ]
        }
      ]
    },
    {
      "cell_type": "code",
      "source": [
        "a=np.zeros([4,6])\n",
        "print(a)"
      ],
      "metadata": {
        "colab": {
          "base_uri": "https://localhost:8080/"
        },
        "id": "ka5arRVZ-spi",
        "outputId": "b6d97cd5-2261-410a-b300-ae68e3824c37"
      },
      "execution_count": 39,
      "outputs": [
        {
          "output_type": "stream",
          "name": "stdout",
          "text": [
            "[[0. 0. 0. 0. 0. 0.]\n",
            " [0. 0. 0. 0. 0. 0.]\n",
            " [0. 0. 0. 0. 0. 0.]\n",
            " [0. 0. 0. 0. 0. 0.]]\n"
          ]
        }
      ]
    },
    {
      "cell_type": "code",
      "source": [
        "b = np.ones([4,5])\n",
        "b"
      ],
      "metadata": {
        "colab": {
          "base_uri": "https://localhost:8080/"
        },
        "id": "oqpVPbXs_fDQ",
        "outputId": "9870d7d3-6b86-40cb-dbd8-2b3d3cae4092"
      },
      "execution_count": 40,
      "outputs": [
        {
          "output_type": "execute_result",
          "data": {
            "text/plain": [
              "array([[1., 1., 1., 1., 1.],\n",
              "       [1., 1., 1., 1., 1.],\n",
              "       [1., 1., 1., 1., 1.],\n",
              "       [1., 1., 1., 1., 1.]])"
            ]
          },
          "metadata": {},
          "execution_count": 40
        }
      ]
    },
    {
      "cell_type": "code",
      "source": [
        "c= 67*np.ones([4,5])\n",
        "c"
      ],
      "metadata": {
        "colab": {
          "base_uri": "https://localhost:8080/"
        },
        "id": "WdPTAlcZ_mKf",
        "outputId": "61ee7e8f-aa28-43c2-a8aa-b167a0c86d53"
      },
      "execution_count": 42,
      "outputs": [
        {
          "output_type": "execute_result",
          "data": {
            "text/plain": [
              "array([[67., 67., 67., 67., 67.],\n",
              "       [67., 67., 67., 67., 67.],\n",
              "       [67., 67., 67., 67., 67.],\n",
              "       [67., 67., 67., 67., 67.]])"
            ]
          },
          "metadata": {},
          "execution_count": 42
        }
      ]
    },
    {
      "cell_type": "code",
      "source": [
        "mat = np.arange(15).reshape(3,5)\n",
        "mat"
      ],
      "metadata": {
        "colab": {
          "base_uri": "https://localhost:8080/"
        },
        "id": "Xe3VEg3d_sj7",
        "outputId": "c561fcb9-6f00-49c8-9b0b-728ce460385b"
      },
      "execution_count": 46,
      "outputs": [
        {
          "output_type": "execute_result",
          "data": {
            "text/plain": [
              "array([[ 0,  1,  2,  3,  4],\n",
              "       [ 5,  6,  7,  8,  9],\n",
              "       [10, 11, 12, 13, 14]])"
            ]
          },
          "metadata": {},
          "execution_count": 46
        }
      ]
    },
    {
      "cell_type": "code",
      "source": [
        "print(np.random.rand(2,6))\n",
        "print(np.random.randn(2,6))\n",
        "print(np.random.randint(1,100,10))"
      ],
      "metadata": {
        "colab": {
          "base_uri": "https://localhost:8080/"
        },
        "id": "BEy9zTzn_32-",
        "outputId": "c453c155-d793-49f3-c1df-ad3b88723f24"
      },
      "execution_count": 47,
      "outputs": [
        {
          "output_type": "stream",
          "name": "stdout",
          "text": [
            "[[0.49015034 0.98833462 0.14638411 0.02696139 0.3078028  0.08000542]\n",
            " [0.05413287 0.701016   0.87017083 0.0574288  0.02648056 0.61636178]]\n",
            "[[ 1.23573347  0.42835663 -0.16222604  0.89383848 -0.86574671  0.37909359]\n",
            " [ 1.11420524  0.150221    0.29062562  0.54578229 -1.09285619 -2.00166907]]\n",
            "[46 33  7 39 63 60 62 30 32 78]\n"
          ]
        }
      ]
    },
    {
      "cell_type": "code",
      "source": [
        "print(np.random.randint(1000,9999,(5,3)))"
      ],
      "metadata": {
        "colab": {
          "base_uri": "https://localhost:8080/"
        },
        "id": "lCynCywaAwYk",
        "outputId": "a564621b-bcf3-461f-8a9b-942c8df2851c"
      },
      "execution_count": 49,
      "outputs": [
        {
          "output_type": "stream",
          "name": "stdout",
          "text": [
            "[[7425 2531 1110]\n",
            " [7768 2516 3455]\n",
            " [4965 6006 5168]\n",
            " [2801 5472 8922]\n",
            " [9424 6074 3751]]\n"
          ]
        }
      ]
    },
    {
      "cell_type": "code",
      "source": [
        "def send_otp(otp):\n",
        "  print(f\"OTP is {otp}\")\n",
        "\n",
        "def create_otp():\n",
        "  otp = np.random.randint(1000,9999)\n",
        "  send_otp(otp)\n",
        "  user_otp = int(input(\"Enter OTP: \"))\n",
        "  if user_otp == otp:\n",
        "    print(\"OTP verified\")\n",
        "  else:\n",
        "    print(\"OTP invalid\")\n",
        "\n",
        "\n",
        "create_otp()"
      ],
      "metadata": {
        "colab": {
          "base_uri": "https://localhost:8080/"
        },
        "id": "F0nDRC3eA74Y",
        "outputId": "073ea7b2-198d-4877-8f94-f4b363366308"
      },
      "execution_count": 52,
      "outputs": [
        {
          "output_type": "stream",
          "name": "stdout",
          "text": [
            "OTP is 5838\n",
            "Enter OTP: 5839\n",
            "OTP invalid\n"
          ]
        }
      ]
    }
  ]
}