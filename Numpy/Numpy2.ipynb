{
  "nbformat": 4,
  "nbformat_minor": 0,
  "metadata": {
    "colab": {
      "provenance": []
    },
    "kernelspec": {
      "name": "python3",
      "display_name": "Python 3"
    },
    "language_info": {
      "name": "python"
    }
  },
  "cells": [
    {
      "cell_type": "markdown",
      "source": [
        "# Numpy and its functions"
      ],
      "metadata": {
        "id": "jSV120tK7qL5"
      }
    },
    {
      "cell_type": "code",
      "execution_count": 1,
      "metadata": {
        "id": "N5tZtctMaQjx"
      },
      "outputs": [],
      "source": [
        "import numpy as np"
      ]
    },
    {
      "cell_type": "code",
      "source": [
        "salary = np.random.randint(5,100,9)\n",
        "salary"
      ],
      "metadata": {
        "colab": {
          "base_uri": "https://localhost:8080/"
        },
        "id": "ZjBf2U_ZaaI_",
        "outputId": "c733e78d-6a25-4243-d784-2ec1c114c784"
      },
      "execution_count": 2,
      "outputs": [
        {
          "output_type": "execute_result",
          "data": {
            "text/plain": [
              "array([38, 53, 56, 19, 38, 16, 13, 79, 24])"
            ]
          },
          "metadata": {},
          "execution_count": 2
        }
      ]
    },
    {
      "cell_type": "code",
      "source": [
        "salary = np.clip(salary,a_min=15,a_max=50)\n",
        "salary"
      ],
      "metadata": {
        "colab": {
          "base_uri": "https://localhost:8080/"
        },
        "id": "RI-G2FFAa_vI",
        "outputId": "301f9e9f-13fb-4067-dc6a-9ab28363d0ad"
      },
      "execution_count": 3,
      "outputs": [
        {
          "output_type": "execute_result",
          "data": {
            "text/plain": [
              "array([38, 50, 50, 19, 38, 16, 15, 50, 24])"
            ]
          },
          "metadata": {},
          "execution_count": 3
        }
      ]
    },
    {
      "cell_type": "code",
      "source": [
        "print(np.where(salary<20))\n",
        "print(np.where(salary>25))\n",
        "print(np.where(salary==50))\n",
        "print(np.where(salary<=33))\n",
        "print(np.where(salary>=15))"
      ],
      "metadata": {
        "colab": {
          "base_uri": "https://localhost:8080/"
        },
        "id": "8U7BrJDNbSik",
        "outputId": "6a4010b8-c091-4616-ad00-b1f9866ba7c5"
      },
      "execution_count": 4,
      "outputs": [
        {
          "output_type": "stream",
          "name": "stdout",
          "text": [
            "(array([3, 5, 6]),)\n",
            "(array([0, 1, 2, 4, 7]),)\n",
            "(array([1, 2, 7]),)\n",
            "(array([3, 5, 6, 8]),)\n",
            "(array([0, 1, 2, 3, 4, 5, 6, 7, 8]),)\n"
          ]
        }
      ]
    },
    {
      "cell_type": "code",
      "source": [
        "salary[[5,8]]"
      ],
      "metadata": {
        "colab": {
          "base_uri": "https://localhost:8080/"
        },
        "id": "5cAwJkT6bwjS",
        "outputId": "75ff2a3c-24cd-49ff-e987-48e69f403c3f"
      },
      "execution_count": 5,
      "outputs": [
        {
          "output_type": "execute_result",
          "data": {
            "text/plain": [
              "array([16, 24])"
            ]
          },
          "metadata": {},
          "execution_count": 5
        }
      ]
    },
    {
      "cell_type": "markdown",
      "source": [
        "# Reshaping"
      ],
      "metadata": {
        "id": "B3pFXxnW7wkB"
      }
    },
    {
      "cell_type": "code",
      "source": [
        "from numpy.random import randint as ri"
      ],
      "metadata": {
        "id": "ll8SldePb2iU"
      },
      "execution_count": 6,
      "outputs": []
    },
    {
      "cell_type": "code",
      "source": [
        "a = ri(5,65,15)\n",
        "a"
      ],
      "metadata": {
        "colab": {
          "base_uri": "https://localhost:8080/"
        },
        "id": "H3p9G1nVcA6A",
        "outputId": "364ccde8-aac1-4d37-f49a-6655ef5ec1b0"
      },
      "execution_count": 7,
      "outputs": [
        {
          "output_type": "execute_result",
          "data": {
            "text/plain": [
              "array([57, 33, 13, 17, 23, 64, 29, 34, 34, 28, 43, 59, 64, 40, 10])"
            ]
          },
          "metadata": {},
          "execution_count": 7
        }
      ]
    },
    {
      "cell_type": "code",
      "source": [
        "b=a.reshape(3,1,5)\n",
        "b"
      ],
      "metadata": {
        "colab": {
          "base_uri": "https://localhost:8080/"
        },
        "id": "vtaAyGlicWLO",
        "outputId": "1615e6b1-aaef-469f-da76-9fc9ca0493c9"
      },
      "execution_count": 8,
      "outputs": [
        {
          "output_type": "execute_result",
          "data": {
            "text/plain": [
              "array([[[57, 33, 13, 17, 23]],\n",
              "\n",
              "       [[64, 29, 34, 34, 28]],\n",
              "\n",
              "       [[43, 59, 64, 40, 10]]])"
            ]
          },
          "metadata": {},
          "execution_count": 8
        }
      ]
    },
    {
      "cell_type": "code",
      "source": [
        "c = a.reshape(3,5)\n",
        "c"
      ],
      "metadata": {
        "colab": {
          "base_uri": "https://localhost:8080/"
        },
        "id": "Mwh3bFfrcjF0",
        "outputId": "45dbf89e-d474-4791-f458-aa1dc8d5ba5a"
      },
      "execution_count": 9,
      "outputs": [
        {
          "output_type": "execute_result",
          "data": {
            "text/plain": [
              "array([[57, 33, 13, 17, 23],\n",
              "       [64, 29, 34, 34, 28],\n",
              "       [43, 59, 64, 40, 10]])"
            ]
          },
          "metadata": {},
          "execution_count": 9
        }
      ]
    },
    {
      "cell_type": "code",
      "source": [
        "print(c.min())\n",
        "print(c.max())\n",
        "print(c.mean())\n",
        "print(c.std())\n",
        "print(c.var())"
      ],
      "metadata": {
        "colab": {
          "base_uri": "https://localhost:8080/"
        },
        "id": "PbZ1yj5Uctph",
        "outputId": "dafffff4-08cf-441b-d048-a88589ac83bf"
      },
      "execution_count": 10,
      "outputs": [
        {
          "output_type": "stream",
          "name": "stdout",
          "text": [
            "10\n",
            "64\n",
            "36.53333333333333\n",
            "17.250571649143176\n",
            "297.58222222222224\n"
          ]
        }
      ]
    },
    {
      "cell_type": "markdown",
      "source": [
        "# Sorting"
      ],
      "metadata": {
        "id": "OyXYxkO470rl"
      }
    },
    {
      "cell_type": "code",
      "source": [
        "mat = ri(1,50,16).reshape(4,4)\n",
        "print('-'*30,'\\n',mat)\n",
        "print('-'*30,'\\n', np.sort(mat))\n",
        "print('-'*30, '\\n',np.sort(mat,axis=0))"
      ],
      "metadata": {
        "colab": {
          "base_uri": "https://localhost:8080/"
        },
        "id": "smbLfRrHc-D2",
        "outputId": "7948d10e-d4e1-4d13-f43a-c70b600d1fa2"
      },
      "execution_count": 11,
      "outputs": [
        {
          "output_type": "stream",
          "name": "stdout",
          "text": [
            "------------------------------ \n",
            " [[25 20 30 20]\n",
            " [22  6 21 37]\n",
            " [38 40 42 31]\n",
            " [27 29 41 35]]\n",
            "------------------------------ \n",
            " [[20 20 25 30]\n",
            " [ 6 21 22 37]\n",
            " [31 38 40 42]\n",
            " [27 29 35 41]]\n",
            "------------------------------ \n",
            " [[22  6 21 20]\n",
            " [25 20 30 31]\n",
            " [27 29 41 35]\n",
            " [38 40 42 37]]\n"
          ]
        }
      ]
    },
    {
      "cell_type": "markdown",
      "source": [
        "# Index & Slicing"
      ],
      "metadata": {
        "id": "n09j37j973FO"
      }
    },
    {
      "cell_type": "code",
      "source": [
        "arr=np.arange(26,40)\n",
        "print(arr)\n",
        "print(arr[2:10])\n",
        "print(arr[2:10:2])\n",
        "print(arr[6:])\n",
        "print(arr[::-1])\n",
        "print(arr[[5,6,8]])"
      ],
      "metadata": {
        "colab": {
          "base_uri": "https://localhost:8080/"
        },
        "id": "b6AwLdN0f70Z",
        "outputId": "c98672ea-d070-49ff-db27-d7949f4c3914"
      },
      "execution_count": 12,
      "outputs": [
        {
          "output_type": "stream",
          "name": "stdout",
          "text": [
            "[26 27 28 29 30 31 32 33 34 35 36 37 38 39]\n",
            "[28 29 30 31 32 33 34 35]\n",
            "[28 30 32 34]\n",
            "[32 33 34 35 36 37 38 39]\n",
            "[39 38 37 36 35 34 33 32 31 30 29 28 27 26]\n",
            "[31 32 34]\n"
          ]
        }
      ]
    },
    {
      "cell_type": "code",
      "source": [
        "mat = [[56,45,85],[15,26,39],[78,59,65]]\n",
        "mat = np.array(mat)\n",
        "print(mat)"
      ],
      "metadata": {
        "colab": {
          "base_uri": "https://localhost:8080/"
        },
        "id": "prf2husrhPcH",
        "outputId": "1388ac8f-5e98-4a8a-d3a4-b204727f2b4a"
      },
      "execution_count": 13,
      "outputs": [
        {
          "output_type": "stream",
          "name": "stdout",
          "text": [
            "[[56 45 85]\n",
            " [15 26 39]\n",
            " [78 59 65]]\n"
          ]
        }
      ]
    },
    {
      "cell_type": "code",
      "source": [
        "print(mat[1])\n",
        "print(mat[2])"
      ],
      "metadata": {
        "colab": {
          "base_uri": "https://localhost:8080/"
        },
        "id": "oAt0c2l2hZlc",
        "outputId": "710780fa-d702-487d-a897-9011d7a94871"
      },
      "execution_count": 14,
      "outputs": [
        {
          "output_type": "stream",
          "name": "stdout",
          "text": [
            "[15 26 39]\n",
            "[78 59 65]\n"
          ]
        }
      ]
    },
    {
      "cell_type": "code",
      "source": [
        "print(mat[:,2:])"
      ],
      "metadata": {
        "colab": {
          "base_uri": "https://localhost:8080/"
        },
        "id": "UlQ-oBqmikhc",
        "outputId": "3e6b09c9-77ab-4af7-a391-86b775e5a9e2"
      },
      "execution_count": 15,
      "outputs": [
        {
          "output_type": "stream",
          "name": "stdout",
          "text": [
            "[[85]\n",
            " [39]\n",
            " [65]]\n"
          ]
        }
      ]
    },
    {
      "cell_type": "code",
      "source": [
        "print(mat[1:2,1:3])"
      ],
      "metadata": {
        "colab": {
          "base_uri": "https://localhost:8080/"
        },
        "id": "xi6RFsDejBvs",
        "outputId": "761d5447-b06d-4aaf-ca97-e13330522a92"
      },
      "execution_count": 16,
      "outputs": [
        {
          "output_type": "stream",
          "name": "stdout",
          "text": [
            "[[26 39]]\n"
          ]
        }
      ]
    },
    {
      "cell_type": "code",
      "source": [
        "print(mat[:,[0,2]])"
      ],
      "metadata": {
        "colab": {
          "base_uri": "https://localhost:8080/"
        },
        "id": "m0nkF33-jcnG",
        "outputId": "96b6c27a-9c8f-4828-b092-e02a0cb3c37c"
      },
      "execution_count": 17,
      "outputs": [
        {
          "output_type": "stream",
          "name": "stdout",
          "text": [
            "[[56 85]\n",
            " [15 39]\n",
            " [78 65]]\n"
          ]
        }
      ]
    },
    {
      "cell_type": "code",
      "source": [
        "print(mat)"
      ],
      "metadata": {
        "colab": {
          "base_uri": "https://localhost:8080/"
        },
        "id": "8ulyvEuLjnuH",
        "outputId": "850b86ed-080e-4a6a-f1c0-6c7ead5d13ff"
      },
      "execution_count": 18,
      "outputs": [
        {
          "output_type": "stream",
          "name": "stdout",
          "text": [
            "[[56 45 85]\n",
            " [15 26 39]\n",
            " [78 59 65]]\n"
          ]
        }
      ]
    },
    {
      "cell_type": "code",
      "source": [
        "mat[1,2]=100\n",
        "mat"
      ],
      "metadata": {
        "colab": {
          "base_uri": "https://localhost:8080/"
        },
        "id": "l0JnQ4dNjrAK",
        "outputId": "9b584d90-9cd9-4372-a48f-e304a1bbae77"
      },
      "execution_count": 19,
      "outputs": [
        {
          "output_type": "execute_result",
          "data": {
            "text/plain": [
              "array([[ 56,  45,  85],\n",
              "       [ 15,  26, 100],\n",
              "       [ 78,  59,  65]])"
            ]
          },
          "metadata": {},
          "execution_count": 19
        }
      ]
    },
    {
      "cell_type": "markdown",
      "source": [
        "# Subsetting"
      ],
      "metadata": {
        "id": "RXDtzo2D8EqU"
      }
    },
    {
      "cell_type": "code",
      "source": [
        "mat=np.array(ri(50,90,15)).reshape(3,5)\n",
        "mat"
      ],
      "metadata": {
        "colab": {
          "base_uri": "https://localhost:8080/"
        },
        "id": "wqtOvhMdj5Ti",
        "outputId": "1882e95a-9cd7-41e5-c37e-8db4c649e574"
      },
      "execution_count": 20,
      "outputs": [
        {
          "output_type": "execute_result",
          "data": {
            "text/plain": [
              "array([[83, 72, 53, 83, 57],\n",
              "       [56, 53, 82, 68, 53],\n",
              "       [76, 85, 64, 60, 80]])"
            ]
          },
          "metadata": {},
          "execution_count": 20
        }
      ]
    },
    {
      "cell_type": "code",
      "source": [
        "print(\"Greater than 70:\",mat[mat>70])"
      ],
      "metadata": {
        "colab": {
          "base_uri": "https://localhost:8080/"
        },
        "id": "9LLi2Zeqj_-S",
        "outputId": "65449bec-4a0e-433c-99f9-5437931d9e7a"
      },
      "execution_count": 21,
      "outputs": [
        {
          "output_type": "stream",
          "name": "stdout",
          "text": [
            "Greater than 70: [83 72 83 82 76 85 80]\n"
          ]
        }
      ]
    },
    {
      "cell_type": "code",
      "source": [
        "print(\"Lesser than 60:\",mat[mat<60])"
      ],
      "metadata": {
        "colab": {
          "base_uri": "https://localhost:8080/"
        },
        "id": "s1QHCiorkTCS",
        "outputId": "428a8c26-f2ee-4084-ddf6-36148b43016f"
      },
      "execution_count": 22,
      "outputs": [
        {
          "output_type": "stream",
          "name": "stdout",
          "text": [
            "Lesser than 60: [53 57 56 53 53]\n"
          ]
        }
      ]
    },
    {
      "cell_type": "code",
      "source": [
        "print(\"idx where equal to 54: \",np.where(mat==54))"
      ],
      "metadata": {
        "colab": {
          "base_uri": "https://localhost:8080/"
        },
        "id": "VTokLp1JkgX4",
        "outputId": "0a75a8a9-b2c0-4664-cca7-b9d080b12ab1"
      },
      "execution_count": 23,
      "outputs": [
        {
          "output_type": "stream",
          "name": "stdout",
          "text": [
            "idx where equal to 54:  (array([], dtype=int64), array([], dtype=int64))\n"
          ]
        }
      ]
    },
    {
      "cell_type": "code",
      "source": [
        "age=60\n",
        "np.where(age>70,'retired','working')"
      ],
      "metadata": {
        "colab": {
          "base_uri": "https://localhost:8080/"
        },
        "id": "-OmQvl_Yk1_L",
        "outputId": "8ade74b0-9043-452b-e91b-9a28e07e6d42"
      },
      "execution_count": 24,
      "outputs": [
        {
          "output_type": "execute_result",
          "data": {
            "text/plain": [
              "array('working', dtype='<U7')"
            ]
          },
          "metadata": {},
          "execution_count": 24
        }
      ]
    },
    {
      "cell_type": "markdown",
      "source": [
        "# Universal fucntions"
      ],
      "metadata": {
        "id": "iLScr68O8KEg"
      }
    },
    {
      "cell_type": "code",
      "source": [
        "mat1=np.array(ri(10,30,16)).reshape(4,4)\n",
        "mat2 = np.array(ri(10,30,16)).reshape(4,4)\n",
        "\n",
        "print(\"mat1 -->\",'\\n',mat1)\n",
        "print(\"mat2 -->\",'\\n',mat2)"
      ],
      "metadata": {
        "colab": {
          "base_uri": "https://localhost:8080/"
        },
        "id": "MPX1RZy_lJEq",
        "outputId": "0c7e859a-63b5-4bdc-8ed0-4dbcdae407e5"
      },
      "execution_count": 25,
      "outputs": [
        {
          "output_type": "stream",
          "name": "stdout",
          "text": [
            "mat1 --> \n",
            " [[29 26 29 13]\n",
            " [17 22 16 21]\n",
            " [19 28 27 11]\n",
            " [19 18 27 17]]\n",
            "mat2 --> \n",
            " [[11 20 13 13]\n",
            " [22 26 14 14]\n",
            " [14 15 19 11]\n",
            " [23 13 13 24]]\n"
          ]
        }
      ]
    },
    {
      "cell_type": "code",
      "source": [
        "print(mat1/mat2)"
      ],
      "metadata": {
        "colab": {
          "base_uri": "https://localhost:8080/"
        },
        "id": "bnGGPeCjln6p",
        "outputId": "5880fc6b-8c6e-44c2-fbb8-a458c5ba15ca"
      },
      "execution_count": 26,
      "outputs": [
        {
          "output_type": "stream",
          "name": "stdout",
          "text": [
            "[[2.63636364 1.3        2.23076923 1.        ]\n",
            " [0.77272727 0.84615385 1.14285714 1.5       ]\n",
            " [1.35714286 1.86666667 1.42105263 1.        ]\n",
            " [0.82608696 1.38461538 2.07692308 0.70833333]]\n"
          ]
        }
      ]
    },
    {
      "cell_type": "code",
      "source": [
        "print(4*mat1+2*mat2)"
      ],
      "metadata": {
        "colab": {
          "base_uri": "https://localhost:8080/"
        },
        "id": "jnnfCxIqlqwQ",
        "outputId": "4e880351-20ca-4b7a-d5e3-514874ace714"
      },
      "execution_count": 27,
      "outputs": [
        {
          "output_type": "stream",
          "name": "stdout",
          "text": [
            "[[138 144 142  78]\n",
            " [112 140  92 112]\n",
            " [104 142 146  66]\n",
            " [122  98 134 116]]\n"
          ]
        }
      ]
    },
    {
      "cell_type": "markdown",
      "source": [
        "# Broadcasting"
      ],
      "metadata": {
        "id": "ewYzH1K_8brW"
      }
    },
    {
      "cell_type": "code",
      "source": [
        "arr1= np.zeros((2,2),dtype=int)\n",
        "arr1"
      ],
      "metadata": {
        "colab": {
          "base_uri": "https://localhost:8080/"
        },
        "id": "PATvSfWb8R0j",
        "outputId": "37e2ba40-c3c3-41be-e5ec-626ace04b89c"
      },
      "execution_count": 39,
      "outputs": [
        {
          "output_type": "execute_result",
          "data": {
            "text/plain": [
              "array([[0, 0],\n",
              "       [0, 0]])"
            ]
          },
          "metadata": {},
          "execution_count": 39
        }
      ]
    },
    {
      "cell_type": "code",
      "source": [
        "arr = np.ones((4,4))\n",
        "arr"
      ],
      "metadata": {
        "colab": {
          "base_uri": "https://localhost:8080/"
        },
        "id": "7RwYUopmlzqH",
        "outputId": "93b244ff-510f-4a82-af1c-a73cb5bd4a51"
      },
      "execution_count": 28,
      "outputs": [
        {
          "output_type": "execute_result",
          "data": {
            "text/plain": [
              "array([[1., 1., 1., 1.],\n",
              "       [1., 1., 1., 1.],\n",
              "       [1., 1., 1., 1.],\n",
              "       [1., 1., 1., 1.]])"
            ]
          },
          "metadata": {},
          "execution_count": 28
        }
      ]
    },
    {
      "cell_type": "code",
      "source": [
        "add_rows=np.array([1,2,3,4])\n",
        "add_rows"
      ],
      "metadata": {
        "colab": {
          "base_uri": "https://localhost:8080/"
        },
        "id": "fA-GhdmRmM6B",
        "outputId": "fb1c12c2-866b-41f9-fe43-0574bba61719"
      },
      "execution_count": 29,
      "outputs": [
        {
          "output_type": "execute_result",
          "data": {
            "text/plain": [
              "array([1, 2, 3, 4])"
            ]
          },
          "metadata": {},
          "execution_count": 29
        }
      ]
    },
    {
      "cell_type": "code",
      "source": [
        "new_arr = arr + add_rows\n",
        "new_arr"
      ],
      "metadata": {
        "colab": {
          "base_uri": "https://localhost:8080/"
        },
        "id": "zzLskf0umSSn",
        "outputId": "ca263004-460a-4eaa-a5f3-3423cc0d036b"
      },
      "execution_count": 30,
      "outputs": [
        {
          "output_type": "execute_result",
          "data": {
            "text/plain": [
              "array([[2., 3., 4., 5.],\n",
              "       [2., 3., 4., 5.],\n",
              "       [2., 3., 4., 5.],\n",
              "       [2., 3., 4., 5.]])"
            ]
          },
          "metadata": {},
          "execution_count": 30
        }
      ]
    },
    {
      "cell_type": "code",
      "source": [
        "new_row = np.transpose(add_rows)\n",
        "new_row"
      ],
      "metadata": {
        "colab": {
          "base_uri": "https://localhost:8080/"
        },
        "id": "dn278eVrmaVO",
        "outputId": "6dc91e9c-4506-46c0-887c-fcd30593f7f1"
      },
      "execution_count": 31,
      "outputs": [
        {
          "output_type": "execute_result",
          "data": {
            "text/plain": [
              "array([1, 2, 3, 4])"
            ]
          },
          "metadata": {},
          "execution_count": 31
        }
      ]
    },
    {
      "cell_type": "code",
      "source": [
        "test = new_row + arr\n",
        "test"
      ],
      "metadata": {
        "colab": {
          "base_uri": "https://localhost:8080/"
        },
        "id": "J2yPzG_nmpjU",
        "outputId": "d5a615ef-5544-4141-c9c6-ca8521e024ee"
      },
      "execution_count": 32,
      "outputs": [
        {
          "output_type": "execute_result",
          "data": {
            "text/plain": [
              "array([[2., 3., 4., 5.],\n",
              "       [2., 3., 4., 5.],\n",
              "       [2., 3., 4., 5.],\n",
              "       [2., 3., 4., 5.]])"
            ]
          },
          "metadata": {},
          "execution_count": 32
        }
      ]
    },
    {
      "cell_type": "markdown",
      "source": [
        "# Array Math"
      ],
      "metadata": {
        "id": "B0aUEC9I8iVB"
      }
    },
    {
      "cell_type": "code",
      "source": [
        "mat1 = np.array(ri(10,30,16)).reshape(4,4)\n",
        "mat2 = np.array(ri(10,30,16)).reshape(4,4)\n",
        "\n",
        "print('Matrix1','\\n',mat1)\n",
        "print('Matrix2','\\n',mat2)"
      ],
      "metadata": {
        "colab": {
          "base_uri": "https://localhost:8080/"
        },
        "id": "R1xNXwPv66C8",
        "outputId": "47b3508e-6ab0-49f5-896f-830037f5aaff"
      },
      "execution_count": 34,
      "outputs": [
        {
          "output_type": "stream",
          "name": "stdout",
          "text": [
            "Matrix1 \n",
            " [[11 27 29 19]\n",
            " [13 23 27 20]\n",
            " [12 11 15 20]\n",
            " [18 12 26 14]]\n",
            "Matrix2 \n",
            " [[26 23 26 13]\n",
            " [22 21 28 13]\n",
            " [27 22 12 18]\n",
            " [25 10 24 11]]\n"
          ]
        }
      ]
    },
    {
      "cell_type": "code",
      "source": [
        "print('Square roots of mat1:','\\n',np.sqrt(mat1))\n",
        "print('Square roots of mat2:','\\n',np.sqrt(mat2))"
      ],
      "metadata": {
        "colab": {
          "base_uri": "https://localhost:8080/"
        },
        "id": "wxltnQD27KZD",
        "outputId": "17a367c7-09ac-4adf-d43f-d43605ebc00f"
      },
      "execution_count": 36,
      "outputs": [
        {
          "output_type": "stream",
          "name": "stdout",
          "text": [
            "Square roots of mat1: \n",
            " [[3.31662479 5.19615242 5.38516481 4.35889894]\n",
            " [3.60555128 4.79583152 5.19615242 4.47213595]\n",
            " [3.46410162 3.31662479 3.87298335 4.47213595]\n",
            " [4.24264069 3.46410162 5.09901951 3.74165739]]\n",
            "Square roots of mat2: \n",
            " [[5.09901951 4.79583152 5.09901951 3.60555128]\n",
            " [4.69041576 4.58257569 5.29150262 3.60555128]\n",
            " [5.19615242 4.69041576 3.46410162 4.24264069]\n",
            " [5.         3.16227766 4.89897949 3.31662479]]\n"
          ]
        }
      ]
    },
    {
      "cell_type": "code",
      "source": [
        "print('Sqaure of mat1:','\\n',np.square(mat1))\n",
        "print('Sqaure of mat2:','\\n',np.square(mat2))"
      ],
      "metadata": {
        "colab": {
          "base_uri": "https://localhost:8080/"
        },
        "id": "NOyR3zt77SME",
        "outputId": "db4e9969-c5bc-47c5-d210-788d75e74e66"
      },
      "execution_count": 37,
      "outputs": [
        {
          "output_type": "stream",
          "name": "stdout",
          "text": [
            "Sqaure of mat1: \n",
            " [[121 729 841 361]\n",
            " [169 529 729 400]\n",
            " [144 121 225 400]\n",
            " [324 144 676 196]]\n",
            "Sqaure of mat2: \n",
            " [[676 529 676 169]\n",
            " [484 441 784 169]\n",
            " [729 484 144 324]\n",
            " [625 100 576 121]]\n"
          ]
        }
      ]
    }
  ]
}