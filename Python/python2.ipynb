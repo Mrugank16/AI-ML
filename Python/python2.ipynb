{
 "cells": [
  {
   "cell_type": "markdown",
   "metadata": {},
   "source": [
    "complex number"
   ]
  },
  {
   "cell_type": "code",
   "execution_count": 1,
   "metadata": {},
   "outputs": [
    {
     "data": {
      "text/plain": [
       "complex"
      ]
     },
     "execution_count": 1,
     "metadata": {},
     "output_type": "execute_result"
    }
   ],
   "source": [
    "c=5+7j\n",
    "type(c)"
   ]
  },
  {
   "cell_type": "markdown",
   "metadata": {},
   "source": [
    "String"
   ]
  },
  {
   "cell_type": "code",
   "execution_count": 2,
   "metadata": {},
   "outputs": [
    {
     "data": {
      "text/plain": [
       "str"
      ]
     },
     "execution_count": 2,
     "metadata": {},
     "output_type": "execute_result"
    }
   ],
   "source": [
    "a=\"My name is Mrugank\"\n",
    "type(a)"
   ]
  },
  {
   "cell_type": "code",
   "execution_count": 6,
   "metadata": {},
   "outputs": [
    {
     "name": "stdout",
     "output_type": "stream",
     "text": [
      "hi mrugank\n",
      "hi mrugank\n"
     ]
    }
   ],
   "source": [
    "a=\"hi\"\n",
    "b=\"mrugank\"\n",
    "c=a+\" \"+b \n",
    "print(c)\n",
    "print(\"hi\",\"mrugank\")"
   ]
  },
  {
   "cell_type": "code",
   "execution_count": 8,
   "metadata": {},
   "outputs": [
    {
     "name": "stdout",
     "output_type": "stream",
     "text": [
      " Mrugank Mrugank Mrugank Mrugank Mrugank\n",
      "Mrugank7\n"
     ]
    }
   ],
   "source": [
    "print(' Mrugank'*5)\n",
    "print(\"Mrugank\"+str(7))"
   ]
  },
  {
   "cell_type": "markdown",
   "metadata": {},
   "source": [
    "# Data Structures"
   ]
  },
  {
   "cell_type": "markdown",
   "metadata": {},
   "source": [
    "list"
   ]
  },
  {
   "cell_type": "code",
   "execution_count": 9,
   "metadata": {},
   "outputs": [
    {
     "data": {
      "text/plain": [
       "list"
      ]
     },
     "execution_count": 9,
     "metadata": {},
     "output_type": "execute_result"
    }
   ],
   "source": [
    "lst=[]\n",
    "type(lst)"
   ]
  },
  {
   "cell_type": "code",
   "execution_count": 10,
   "metadata": {},
   "outputs": [
    {
     "name": "stdout",
     "output_type": "stream",
     "text": [
      "['a', 'b', 'c', 'd']\n"
     ]
    }
   ],
   "source": [
    "lst=['a','b','c','d']\n",
    "print(lst)"
   ]
  },
  {
   "cell_type": "code",
   "execution_count": 11,
   "metadata": {},
   "outputs": [
    {
     "name": "stdout",
     "output_type": "stream",
     "text": [
      "['a', 'b', 'c', 'd']\n"
     ]
    }
   ],
   "source": [
    "lst2=list(lst)\n",
    "print(lst2)"
   ]
  },
  {
   "cell_type": "code",
   "execution_count": 12,
   "metadata": {},
   "outputs": [
    {
     "name": "stdout",
     "output_type": "stream",
     "text": [
      "[50, 60, 30, 80]\n"
     ]
    }
   ],
   "source": [
    "marks=[50,60,30,80]\n",
    "copied = marks.copy()\n",
    "print(copied)"
   ]
  },
  {
   "cell_type": "code",
   "execution_count": 13,
   "metadata": {},
   "outputs": [
    {
     "data": {
      "text/plain": [
       "['m', 'r', 'u', 'g', 'a', 'n', 'k']"
      ]
     },
     "execution_count": 13,
     "metadata": {},
     "output_type": "execute_result"
    }
   ],
   "source": [
    "list('mrugank')"
   ]
  },
  {
   "cell_type": "code",
   "execution_count": 19,
   "metadata": {},
   "outputs": [
    {
     "name": "stdout",
     "output_type": "stream",
     "text": [
      "['mrugank']\n",
      "['mrugank', 'pranav']\n",
      "['mrugank', 'pranav', 'meet']\n"
     ]
    }
   ],
   "source": [
    "l1=[]\n",
    "l1.append('mrugank')\n",
    "print(l1)\n",
    "l1.append('pranav')\n",
    "print(l1)\n",
    "l1.append('meet')\n",
    "print(l1)"
   ]
  },
  {
   "cell_type": "code",
   "execution_count": 20,
   "metadata": {},
   "outputs": [
    {
     "name": "stdout",
     "output_type": "stream",
     "text": [
      "['mrugank', 'pratik', 'pranav', 'meet']\n",
      "4\n"
     ]
    }
   ],
   "source": [
    "l1.insert(1,'pratik')\n",
    "print(l1)\n",
    "print(len(l1))"
   ]
  },
  {
   "cell_type": "code",
   "execution_count": 22,
   "metadata": {},
   "outputs": [
    {
     "name": "stdout",
     "output_type": "stream",
     "text": [
      "mrugank\n",
      "pratik\n",
      "pranav\n",
      "meet\n"
     ]
    }
   ],
   "source": [
    "print(l1[0])\n",
    "print(l1[1])\n",
    "print(l1[2])\n",
    "print(l1[3])\n",
    "\n"
   ]
  },
  {
   "cell_type": "code",
   "execution_count": 23,
   "metadata": {},
   "outputs": [
    {
     "name": "stdout",
     "output_type": "stream",
     "text": [
      "['mrugank', 'pratik', 'manoj', 'meet']\n"
     ]
    }
   ],
   "source": [
    "l1[2]='manoj'\n",
    "print(l1)"
   ]
  },
  {
   "cell_type": "code",
   "execution_count": 25,
   "metadata": {},
   "outputs": [
    {
     "name": "stdout",
     "output_type": "stream",
     "text": [
      "['pratik', 'manoj', 'meet']\n",
      "['manoj', 'meet']\n",
      "['mrugank', 'pratik']\n",
      "['pratik', 'manoj']\n"
     ]
    }
   ],
   "source": [
    "print(l1[1:])\n",
    "print(l1[2:])\n",
    "print(l1[:2])\n",
    "print(l1[1:3])"
   ]
  },
  {
   "cell_type": "code",
   "execution_count": 28,
   "metadata": {},
   "outputs": [
    {
     "name": "stdout",
     "output_type": "stream",
     "text": [
      "[5, 6, 8, 9, 2, 4, 7]\n",
      "[2, 4, 7, 5, 6, 8, 9]\n"
     ]
    }
   ],
   "source": [
    "l1=[5,6,8]+[9]\n",
    "l2=[2,4,7]\n",
    "l3=l1+l2\n",
    "l4=l2+l1\n",
    "print(l3)\n",
    "print(l4)"
   ]
  },
  {
   "cell_type": "code",
   "execution_count": 29,
   "metadata": {},
   "outputs": [
    {
     "data": {
      "text/plain": [
       "[5, 6, 8, 9, 5, 6, 8, 9]"
      ]
     },
     "execution_count": 29,
     "metadata": {},
     "output_type": "execute_result"
    }
   ],
   "source": [
    "2*l1"
   ]
  },
  {
   "cell_type": "code",
   "execution_count": 30,
   "metadata": {},
   "outputs": [
    {
     "name": "stdout",
     "output_type": "stream",
     "text": [
      "====================\n",
      "I am Mrugank\n",
      "====================\n"
     ]
    }
   ],
   "source": [
    "print('='*20)\n",
    "print(\"I am Mrugank\")\n",
    "print('='*20)"
   ]
  },
  {
   "cell_type": "code",
   "execution_count": 33,
   "metadata": {},
   "outputs": [
    {
     "name": "stdout",
     "output_type": "stream",
     "text": [
      "[56, 23, 59, 26, 23, 59, 81]\n",
      "Count of 59 is 2\n"
     ]
    }
   ],
   "source": [
    "lst = [56,23,59,26,23,59,81]\n",
    "print(lst)\n",
    "print(\"Count of 59 is\",lst.count(59))\n",
    "\n"
   ]
  },
  {
   "cell_type": "code",
   "execution_count": 38,
   "metadata": {},
   "outputs": [
    {
     "name": "stdout",
     "output_type": "stream",
     "text": [
      "['mrugank', 'pratik', 'pranav', 'meet', ['Aditya', 'Ammar']]\n"
     ]
    }
   ],
   "source": [
    "l1=['mrugank', 'pratik', 'pranav', 'meet']\n",
    "l1.append(['Aditya','Ammar'])\n",
    "print(l1)"
   ]
  },
  {
   "cell_type": "code",
   "execution_count": 39,
   "metadata": {},
   "outputs": [
    {
     "name": "stdout",
     "output_type": "stream",
     "text": [
      "['mrugank', 'pratik', 'pranav', 'meet', 'Aditya', 'Ammar']\n"
     ]
    }
   ],
   "source": [
    "l1=['mrugank', 'pratik', 'pranav', 'meet']\n",
    "l1.extend(['Aditya','Ammar'])\n",
    "print(l1)"
   ]
  },
  {
   "cell_type": "code",
   "execution_count": 40,
   "metadata": {},
   "outputs": [
    {
     "name": "stdout",
     "output_type": "stream",
     "text": [
      "['mrugank', 'pratik', 'pranav', 'meet', 'Aditya', 'Ammar']\n",
      "['mrugank', 'pratik', 'pranav', 'meet', 'Aditya']\n",
      "['mrugank', 'pratik', 'meet', 'Aditya']\n"
     ]
    }
   ],
   "source": [
    "print(l1)\n",
    "l1.pop()\n",
    "print(l1)\n",
    "l1.pop(2)\n",
    "print(l1)"
   ]
  },
  {
   "cell_type": "code",
   "execution_count": 41,
   "metadata": {},
   "outputs": [
    {
     "name": "stdout",
     "output_type": "stream",
     "text": [
      "['mrugank', 'pratik', 'meet', 'Aditya']\n",
      "['mrugank', 'meet', 'Aditya']\n"
     ]
    }
   ],
   "source": [
    "print(l1)\n",
    "l1.remove('pratik')\n",
    "print(l1)"
   ]
  },
  {
   "cell_type": "code",
   "execution_count": 42,
   "metadata": {},
   "outputs": [
    {
     "name": "stdout",
     "output_type": "stream",
     "text": [
      "['mrugank', 'meet', 'Aditya']\n",
      "['Aditya', 'meet', 'mrugank']\n"
     ]
    }
   ],
   "source": [
    "print(l1)\n",
    "l1.reverse()\n",
    "print(l1)"
   ]
  },
  {
   "cell_type": "code",
   "execution_count": 43,
   "metadata": {},
   "outputs": [
    {
     "name": "stdout",
     "output_type": "stream",
     "text": [
      "['Aditya', 'meet', 'mrugank']\n",
      "['Aditya', 'meet', 'mrugank']\n",
      "['mrugank', 'meet', 'Aditya']\n"
     ]
    }
   ],
   "source": [
    "print(l1)\n",
    "l1.sort()\n",
    "print(l1)\n",
    "l1.sort(reverse=True)\n",
    "print(l1)"
   ]
  }
 ],
 "metadata": {
  "kernelspec": {
   "display_name": "Python 3",
   "language": "python",
   "name": "python3"
  },
  "language_info": {
   "codemirror_mode": {
    "name": "ipython",
    "version": 3
   },
   "file_extension": ".py",
   "mimetype": "text/x-python",
   "name": "python",
   "nbconvert_exporter": "python",
   "pygments_lexer": "ipython3",
   "version": "3.12.0"
  }
 },
 "nbformat": 4,
 "nbformat_minor": 2
}
