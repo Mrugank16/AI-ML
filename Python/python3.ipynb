{
 "cells": [
  {
   "cell_type": "markdown",
   "metadata": {},
   "source": [
    "Tuple"
   ]
  },
  {
   "cell_type": "code",
   "execution_count": 1,
   "metadata": {},
   "outputs": [
    {
     "name": "stdout",
     "output_type": "stream",
     "text": [
      "('mumbai', 'delhi', 'indore', 'ranchi')\n",
      "<class 'tuple'>\n"
     ]
    }
   ],
   "source": [
    "location=('mumbai','delhi','indore','ranchi')\n",
    "print(location)\n",
    "print(type(location))"
   ]
  },
  {
   "cell_type": "code",
   "execution_count": 2,
   "metadata": {},
   "outputs": [
    {
     "name": "stdout",
     "output_type": "stream",
     "text": [
      "('mumbai', 'delhi', 'indore', 'ranchi', 'jabalpur')\n"
     ]
    }
   ],
   "source": [
    "location=list(location)\n",
    "location.append('jabalpur')\n",
    "location=tuple(location)\n",
    "print(location)"
   ]
  },
  {
   "cell_type": "code",
   "execution_count": 3,
   "metadata": {},
   "outputs": [
    {
     "data": {
      "text/plain": [
       "5"
      ]
     },
     "execution_count": 3,
     "metadata": {},
     "output_type": "execute_result"
    }
   ],
   "source": [
    "len(location)"
   ]
  },
  {
   "cell_type": "code",
   "execution_count": 4,
   "metadata": {},
   "outputs": [
    {
     "name": "stdout",
     "output_type": "stream",
     "text": [
      "mumbai\n",
      "delhi\n",
      "indore\n",
      "ranchi\n",
      "jabalpur\n"
     ]
    }
   ],
   "source": [
    "print(location[0])\n",
    "print(location[1])\n",
    "print(location[2])\n",
    "print(location[3])\n",
    "print(location[4])"
   ]
  },
  {
   "cell_type": "code",
   "execution_count": 6,
   "metadata": {},
   "outputs": [
    {
     "name": "stdout",
     "output_type": "stream",
     "text": [
      "(50, 60, 40, 90, 80, 70, 60, 50, 40, 70, 10, 20, 30, 7, 50, 50)\n",
      "1st index of 50 is 0\n",
      "count of 50 is 4\n"
     ]
    }
   ],
   "source": [
    "numbers=(50,60,40,90,80,70,60,50,40,70,10,20,30,7,50,50)\n",
    "print(numbers)\n",
    "print(\"1st index of 50 is\",numbers.index(50))\n",
    "print(\"count of 50 is\",numbers.count(50))"
   ]
  },
  {
   "cell_type": "markdown",
   "metadata": {},
   "source": [
    "Set"
   ]
  },
  {
   "cell_type": "code",
   "execution_count": 7,
   "metadata": {},
   "outputs": [
    {
     "name": "stdout",
     "output_type": "stream",
     "text": [
      "<class 'set'>\n",
      "{5}\n",
      "{10, 5}\n"
     ]
    }
   ],
   "source": [
    "numbers=set()\n",
    "print(type(numbers))\n",
    "numbers.add(5)\n",
    "print(numbers)\n",
    "numbers.add(10)\n",
    "numbers.add(5)\n",
    "print(numbers)\n"
   ]
  },
  {
   "cell_type": "code",
   "execution_count": 8,
   "metadata": {},
   "outputs": [
    {
     "name": "stdout",
     "output_type": "stream",
     "text": [
      "{96, 1, 2, 3, 4, 5, 6, 7, 8, 9, 74, 41, 12, 52, 789, 85, 56, 63}\n"
     ]
    }
   ],
   "source": [
    "numbers=[1,2,3,4,5,6,7,8,9,1,2,3,4,56,789,12,74,74,85,96,74,85,96,4,1,52,63,52,41,56,56]\n",
    "remove_duplicate = set(numbers)\n",
    "print(remove_duplicate)"
   ]
  },
  {
   "cell_type": "markdown",
   "metadata": {},
   "source": [
    "Dictionary"
   ]
  },
  {
   "cell_type": "code",
   "execution_count": 9,
   "metadata": {},
   "outputs": [
    {
     "name": "stdout",
     "output_type": "stream",
     "text": [
      "{'1': 'one', '2': 'two'}\n",
      "one\n"
     ]
    }
   ],
   "source": [
    "my_dict={'1':'one','2':'two'}\n",
    "print(my_dict)\n",
    "print(my_dict['1'])\n"
   ]
  },
  {
   "cell_type": "code",
   "execution_count": 10,
   "metadata": {},
   "outputs": [
    {
     "name": "stdout",
     "output_type": "stream",
     "text": [
      "{'Roll Number': 123, 'Subjects': ['Maths', 'science', 'Computer'], 'Marks': [24, 29, 25]}\n"
     ]
    }
   ],
   "source": [
    "my_dict={'Roll Number':123,'Subjects':['Maths','science','Computer'],'Marks':[24,29,25]}\n",
    "print(my_dict)"
   ]
  },
  {
   "cell_type": "code",
   "execution_count": 11,
   "metadata": {},
   "outputs": [
    {
     "name": "stdout",
     "output_type": "stream",
     "text": [
      "Maths\n",
      "Computer\n"
     ]
    }
   ],
   "source": [
    "print(my_dict['Subjects'][0])\n",
    "print(my_dict['Subjects'][2])"
   ]
  },
  {
   "cell_type": "code",
   "execution_count": 12,
   "metadata": {},
   "outputs": [
    {
     "data": {
      "text/plain": [
       "'SCIENCE'"
      ]
     },
     "execution_count": 12,
     "metadata": {},
     "output_type": "execute_result"
    }
   ],
   "source": [
    "my_dict['Subjects'][1].upper()"
   ]
  },
  {
   "cell_type": "code",
   "execution_count": 13,
   "metadata": {},
   "outputs": [
    {
     "data": {
      "text/plain": [
       "{'Roll Number': 123,\n",
       " 'Subjects': ['Maths', 'science', 'Computer'],\n",
       " 'Marks': [24, 29, 25]}"
      ]
     },
     "execution_count": 13,
     "metadata": {},
     "output_type": "execute_result"
    }
   ],
   "source": [
    "my_dict"
   ]
  },
  {
   "cell_type": "code",
   "execution_count": 14,
   "metadata": {},
   "outputs": [
    {
     "data": {
      "text/plain": [
       "{'Roll Number': 123,\n",
       " 'Subjects': ['Maths', 'science', 'Computer'],\n",
       " 'Marks': [24, 35, 25]}"
      ]
     },
     "execution_count": 14,
     "metadata": {},
     "output_type": "execute_result"
    }
   ],
   "source": [
    "my_dict['Marks'][1]=my_dict['Marks'][1]+6\n",
    "my_dict"
   ]
  },
  {
   "cell_type": "code",
   "execution_count": 15,
   "metadata": {},
   "outputs": [
    {
     "data": {
      "text/plain": [
       "{'Roll Number': 123,\n",
       " 'Subjects': ['Maths', 'science', 'Computer'],\n",
       " 'Marks': [24, 35, 25],\n",
       " 'Year': 2021}"
      ]
     },
     "execution_count": 15,
     "metadata": {},
     "output_type": "execute_result"
    }
   ],
   "source": [
    "\n",
    "my_dict['Year']=2021\n",
    "my_dict"
   ]
  },
  {
   "cell_type": "code",
   "execution_count": 16,
   "metadata": {},
   "outputs": [
    {
     "data": {
      "text/plain": [
       "{'Roll Number': 123,\n",
       " 'Subjects': ['Maths', 'science', 'Computer'],\n",
       " 'Marks': [24, 35, 25],\n",
       " 'Year': 2020}"
      ]
     },
     "execution_count": 16,
     "metadata": {},
     "output_type": "execute_result"
    }
   ],
   "source": [
    "my_dict.update({'Year':2020})\n",
    "my_dict"
   ]
  },
  {
   "cell_type": "code",
   "execution_count": 17,
   "metadata": {},
   "outputs": [
    {
     "data": {
      "text/plain": [
       "dict_items([('Roll Number', 123), ('Subjects', ['Maths', 'science', 'Computer']), ('Marks', [24, 35, 25]), ('Year', 2020)])"
      ]
     },
     "execution_count": 17,
     "metadata": {},
     "output_type": "execute_result"
    }
   ],
   "source": [
    "my_dict.items()"
   ]
  },
  {
   "cell_type": "markdown",
   "metadata": {},
   "source": [
    "# Branching"
   ]
  },
  {
   "cell_type": "code",
   "execution_count": 18,
   "metadata": {},
   "outputs": [
    {
     "name": "stdout",
     "output_type": "stream",
     "text": [
      "smaller\n"
     ]
    }
   ],
   "source": [
    "i=5\n",
    "if i<10:\n",
    "    print(\"smaller\")\n",
    "else :\n",
    "    print(\"larger\")"
   ]
  },
  {
   "cell_type": "code",
   "execution_count": 20,
   "metadata": {},
   "outputs": [
    {
     "name": "stdout",
     "output_type": "stream",
     "text": [
      "smaller\n"
     ]
    }
   ],
   "source": [
    "print(\"smaller\" ) if i<10 else print(\"larger\")"
   ]
  },
  {
   "cell_type": "code",
   "execution_count": 21,
   "metadata": {},
   "outputs": [
    {
     "name": "stdout",
     "output_type": "stream",
     "text": [
      "200 extra\n"
     ]
    }
   ],
   "source": [
    "a=500\n",
    "b=400\n",
    "\n",
    "if(a+b<700):\n",
    "    print(\"less\")\n",
    "else:\n",
    "    print(a+b-700,\"extra\")"
   ]
  },
  {
   "cell_type": "code",
   "execution_count": 22,
   "metadata": {},
   "outputs": [
    {
     "name": "stdout",
     "output_type": "stream",
     "text": [
      "okay\n"
     ]
    }
   ],
   "source": [
    "marks=70\n",
    "\n",
    "if marks>50:\n",
    "    if marks>75:\n",
    "        print(\"good\")\n",
    "    else:\n",
    "        print(\"okay\")\n",
    "else:\n",
    "    print(\"bad\")"
   ]
  },
  {
   "cell_type": "code",
   "execution_count": 23,
   "metadata": {},
   "outputs": [
    {
     "name": "stdout",
     "output_type": "stream",
     "text": [
      "b is greater\n"
     ]
    }
   ],
   "source": [
    "a=5\n",
    "b=7\n",
    "\n",
    "if(a>b):\n",
    "    print(\"a is greater\")\n",
    "else:\n",
    "    print(\"b is greater\")"
   ]
  }
 ],
 "metadata": {
  "kernelspec": {
   "display_name": "Python 3",
   "language": "python",
   "name": "python3"
  },
  "language_info": {
   "codemirror_mode": {
    "name": "ipython",
    "version": 3
   },
   "file_extension": ".py",
   "mimetype": "text/x-python",
   "name": "python",
   "nbconvert_exporter": "python",
   "pygments_lexer": "ipython3",
   "version": "3.12.0"
  }
 },
 "nbformat": 4,
 "nbformat_minor": 2
}
