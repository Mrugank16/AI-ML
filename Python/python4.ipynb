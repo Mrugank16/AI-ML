{
 "cells": [
  {
   "cell_type": "markdown",
   "metadata": {},
   "source": [
    "range fucntion"
   ]
  },
  {
   "cell_type": "code",
   "execution_count": 1,
   "metadata": {},
   "outputs": [
    {
     "name": "stdout",
     "output_type": "stream",
     "text": [
      "range(0, 6)\n"
     ]
    }
   ],
   "source": [
    "print(range(6))"
   ]
  },
  {
   "cell_type": "code",
   "execution_count": 2,
   "metadata": {},
   "outputs": [
    {
     "name": "stdout",
     "output_type": "stream",
     "text": [
      "[0, 1, 2, 3, 4, 5]\n"
     ]
    }
   ],
   "source": [
    "print(list(range(6)))"
   ]
  },
  {
   "cell_type": "code",
   "execution_count": 4,
   "metadata": {},
   "outputs": [
    {
     "name": "stdout",
     "output_type": "stream",
     "text": [
      "[1, 3, 5, 7, 9, 11, 13, 15]\n"
     ]
    }
   ],
   "source": [
    "print(list(range(1,16,2)))"
   ]
  },
  {
   "cell_type": "code",
   "execution_count": 5,
   "metadata": {},
   "outputs": [
    {
     "name": "stdout",
     "output_type": "stream",
     "text": [
      "[1, 4, 7, 10, 13, 16]\n"
     ]
    }
   ],
   "source": [
    "lst=list(range(1,18,3))\n",
    "print(lst)"
   ]
  },
  {
   "cell_type": "code",
   "execution_count": 7,
   "metadata": {},
   "outputs": [
    {
     "name": "stdout",
     "output_type": "stream",
     "text": [
      "[100, 95, 90, 85, 80, 75, 70, 65, 60, 55, 50, 45, 40, 35, 30, 25, 20, 15, 10, 5]\n"
     ]
    }
   ],
   "source": [
    "reverse=list(range(100,1,-5))\n",
    "print(reverse)"
   ]
  },
  {
   "cell_type": "markdown",
   "metadata": {},
   "source": [
    "loop function"
   ]
  },
  {
   "cell_type": "code",
   "execution_count": 8,
   "metadata": {},
   "outputs": [
    {
     "name": "stdout",
     "output_type": "stream",
     "text": [
      "5\n",
      "9\n",
      "5231\n",
      "14\n",
      "14\n",
      "3\n"
     ]
    }
   ],
   "source": [
    "nums=[5,9,5231,14,14,3]\n",
    "for num in nums:\n",
    "    print(num)"
   ]
  },
  {
   "cell_type": "code",
   "execution_count": 10,
   "metadata": {},
   "outputs": [
    {
     "name": "stdout",
     "output_type": "stream",
     "text": [
      "less than 1000 by 995\n",
      "less than 1000 by 991\n",
      "greater than 1000 by 4231\n",
      "less than 1000 by 986\n",
      "less than 1000 by 986\n",
      "less than 1000 by 997\n"
     ]
    }
   ],
   "source": [
    "for num in nums:\n",
    "    if num>1000:\n",
    "        print(\"greater than 1000 by\", num-1000)\n",
    "    else:\n",
    "        print(\"less than 1000 by\",1000-num)"
   ]
  },
  {
   "cell_type": "code",
   "execution_count": 11,
   "metadata": {},
   "outputs": [
    {
     "name": "stdout",
     "output_type": "stream",
     "text": [
      "[1000, 2000, 3000, 1000, 2000]\n"
     ]
    }
   ],
   "source": [
    "salary=[1000,2000,3000,5000,7000,1000,2000,9000]\n",
    "sal=[val for val in salary if val<5000]\n",
    "print(sal)"
   ]
  },
  {
   "cell_type": "code",
   "execution_count": 12,
   "metadata": {},
   "outputs": [
    {
     "name": "stdout",
     "output_type": "stream",
     "text": [
      "10\n",
      "20\n",
      "30\n",
      "40\n",
      "50\n",
      "\n",
      "\n",
      "11\n",
      "22\n",
      "33\n",
      "44\n",
      "55\n",
      "\n",
      "\n",
      "12\n",
      "24\n",
      "36\n",
      "48\n",
      "60\n",
      "\n",
      "\n",
      "13\n",
      "26\n",
      "39\n",
      "52\n",
      "65\n",
      "\n",
      "\n",
      "14\n",
      "28\n",
      "42\n",
      "56\n",
      "70\n",
      "\n",
      "\n",
      "====================\n",
      "completed \n",
      "====================\n"
     ]
    }
   ],
   "source": [
    "for num in range(10,15):\n",
    "    for i in range(1,6):\n",
    "        print(num*i)\n",
    "        if i==5:\n",
    "            print(\"\\n\")\n",
    "else:\n",
    "    print('='*20)\n",
    "    print(\"completed \")\n",
    "    print('='*20)"
   ]
  },
  {
   "cell_type": "code",
   "execution_count": 13,
   "metadata": {},
   "outputs": [
    {
     "name": "stdout",
     "output_type": "stream",
     "text": [
      "5 X 1 = 5\n",
      "5 X 2 = 10\n",
      "5 X 3 = 15\n",
      "5 X 4 = 20\n",
      "5 X 5 = 25\n",
      "5 X 6 = 30\n",
      "5 X 7 = 35\n",
      "5 X 8 = 40\n",
      "5 X 9 = 45\n",
      "5 X 10 = 50\n"
     ]
    }
   ],
   "source": [
    "num = int(input(\"enter a number to get table\"))\n",
    "for i in range(1,11):\n",
    "    print(num,\"X\",i,\"=\",num*i)"
   ]
  },
  {
   "cell_type": "code",
   "execution_count": 14,
   "metadata": {},
   "outputs": [
    {
     "name": "stdout",
     "output_type": "stream",
     "text": [
      "6X1=6\n",
      "6X2=12\n",
      "6X3=18\n",
      "6X4=24\n",
      "6X5=30\n",
      "6X6=36\n",
      "6X7=42\n",
      "6X8=48\n",
      "6X9=54\n",
      "6X10=60\n"
     ]
    }
   ],
   "source": [
    "num = int(input(\"enter a number to get table\"))\n",
    "for i in range(1,11):\n",
    "    print(f\"{num}X{i}={num*i}\")"
   ]
  },
  {
   "cell_type": "code",
   "execution_count": 15,
   "metadata": {},
   "outputs": [
    {
     "name": "stdout",
     "output_type": "stream",
     "text": [
      "0\n",
      "2\n",
      "4\n",
      "6\n",
      "8\n",
      "10\n",
      "12\n",
      "14\n",
      "16\n",
      "18\n"
     ]
    }
   ],
   "source": [
    "i=0\n",
    "while(i<10):\n",
    "    print(i*2)\n",
    "    i+=1"
   ]
  },
  {
   "cell_type": "code",
   "execution_count": 16,
   "metadata": {},
   "outputs": [
    {
     "name": "stdout",
     "output_type": "stream",
     "text": [
      "time.struct_time(tm_year=2024, tm_mon=7, tm_mday=3, tm_hour=19, tm_min=4, tm_sec=17, tm_wday=2, tm_yday=185, tm_isdst=0)\n"
     ]
    }
   ],
   "source": [
    "import time\n",
    "result = time.localtime()\n",
    "print(result)"
   ]
  },
  {
   "cell_type": "code",
   "execution_count": 18,
   "metadata": {},
   "outputs": [
    {
     "name": "stdout",
     "output_type": "stream",
     "text": [
      "timeup\n"
     ]
    }
   ],
   "source": [
    "while True:\n",
    "    result=time.localtime()\n",
    "    if result.tm_hour==19 and result.tm_min==6:\n",
    "        print(\"timeup\")\n",
    "        break"
   ]
  },
  {
   "cell_type": "code",
   "execution_count": 25,
   "metadata": {},
   "outputs": [
    {
     "name": "stdout",
     "output_type": "stream",
     "text": [
      "(0, 'mrugank')\n",
      "(1, 'pranav')\n",
      "(2, 'manoj')\n"
     ]
    }
   ],
   "source": [
    "lst=['mrugank','pranav','manoj']\n",
    "for i in enumerate(list):\n",
    "    print(i)"
   ]
  },
  {
   "cell_type": "code",
   "execution_count": 26,
   "metadata": {},
   "outputs": [
    {
     "name": "stdout",
     "output_type": "stream",
     "text": [
      "5 mrugank\n",
      "6 pranav\n",
      "7 manoj\n"
     ]
    }
   ],
   "source": [
    "for i,name in enumerate(lst,5):\n",
    "    print(i,name)"
   ]
  },
  {
   "cell_type": "code",
   "execution_count": 35,
   "metadata": {},
   "outputs": [
    {
     "ename": "TypeError",
     "evalue": "'list' object is not callable",
     "output_type": "error",
     "traceback": [
      "\u001b[1;31m---------------------------------------------------------------------------\u001b[0m",
      "\u001b[1;31mTypeError\u001b[0m                                 Traceback (most recent call last)",
      "Cell \u001b[1;32mIn[35], line 3\u001b[0m\n\u001b[0;32m      1\u001b[0m name \u001b[38;5;241m=\u001b[39m [\u001b[38;5;124m'\u001b[39m\u001b[38;5;124mmrugank\u001b[39m\u001b[38;5;124m'\u001b[39m, \u001b[38;5;124m'\u001b[39m\u001b[38;5;124mpranav\u001b[39m\u001b[38;5;124m'\u001b[39m]\n\u001b[0;32m      2\u001b[0m marks \u001b[38;5;241m=\u001b[39m [\u001b[38;5;241m16\u001b[39m, \u001b[38;5;241m27\u001b[39m]\n\u001b[1;32m----> 3\u001b[0m zipped_details \u001b[38;5;241m=\u001b[39m \u001b[38;5;28;43mlist\u001b[39;49m\u001b[43m(\u001b[49m\u001b[38;5;28;43mzip\u001b[39;49m\u001b[43m(\u001b[49m\u001b[43mname\u001b[49m\u001b[43m,\u001b[49m\u001b[43m \u001b[49m\u001b[43mmarks\u001b[49m\u001b[43m)\u001b[49m\u001b[43m)\u001b[49m\n\u001b[0;32m      4\u001b[0m \u001b[38;5;28mprint\u001b[39m(zipped_details)\n",
      "\u001b[1;31mTypeError\u001b[0m: 'list' object is not callable"
     ]
    }
   ],
   "source": [
    "name = ['mrugank', 'pranav']\n",
    "marks = [16, 27]\n",
    "zipped_details = list(zip(name, marks))\n",
    "print(zipped_details)"
   ]
  },
  {
   "cell_type": "code",
   "execution_count": 36,
   "metadata": {},
   "outputs": [
    {
     "name": "stdout",
     "output_type": "stream",
     "text": [
      "52\n",
      "62\n"
     ]
    }
   ],
   "source": [
    "sal=[52,62,85,95]\n",
    "for val in sal:\n",
    "    if val==85:\n",
    "        break\n",
    "    print(val)"
   ]
  },
  {
   "cell_type": "code",
   "execution_count": 38,
   "metadata": {},
   "outputs": [
    {
     "name": "stdout",
     "output_type": "stream",
     "text": [
      "52\n",
      "85\n",
      "95\n"
     ]
    }
   ],
   "source": [
    "for val in sal:\n",
    "    if val==62:\n",
    "        continue\n",
    "    print(val)"
   ]
  }
 ],
 "metadata": {
  "kernelspec": {
   "display_name": "Python 3",
   "language": "python",
   "name": "python3"
  },
  "language_info": {
   "codemirror_mode": {
    "name": "ipython",
    "version": 3
   },
   "file_extension": ".py",
   "mimetype": "text/x-python",
   "name": "python",
   "nbconvert_exporter": "python",
   "pygments_lexer": "ipython3",
   "version": "3.12.0"
  }
 },
 "nbformat": 4,
 "nbformat_minor": 2
}
