{
 "cells": [
  {
   "cell_type": "code",
   "execution_count": 1,
   "metadata": {},
   "outputs": [],
   "source": [
    "def hello():\n",
    "    print(\"Hello from python\")"
   ]
  },
  {
   "cell_type": "code",
   "execution_count": 2,
   "metadata": {},
   "outputs": [
    {
     "name": "stdout",
     "output_type": "stream",
     "text": [
      "Hello from python\n"
     ]
    }
   ],
   "source": [
    "hello()"
   ]
  },
  {
   "cell_type": "code",
   "execution_count": 4,
   "metadata": {},
   "outputs": [
    {
     "name": "stdout",
     "output_type": "stream",
     "text": [
      "Good Morning mrugank \n",
      "\tHave a nice day\n"
     ]
    }
   ],
   "source": [
    "def greet(name):\n",
    "    print(\"Good Morning\",name,\"\\n\\tHave a nice day\")\n",
    "\n",
    "greet(\"mrugank\")"
   ]
  },
  {
   "cell_type": "code",
   "execution_count": 9,
   "metadata": {},
   "outputs": [
    {
     "name": "stdout",
     "output_type": "stream",
     "text": [
      "3000\n"
     ]
    }
   ],
   "source": [
    "def inc(salary):\n",
    "    if(salary<4000):\n",
    "        return (salary+1000)\n",
    "    else:\n",
    "        return (salary)\n",
    "\n",
    "\n",
    "print(inc(2000))"
   ]
  },
  {
   "cell_type": "code",
   "execution_count": 10,
   "metadata": {},
   "outputs": [
    {
     "name": "stdout",
     "output_type": "stream",
     "text": [
      "10\n"
     ]
    }
   ],
   "source": [
    "def sum(a,b,c):\n",
    "    return a+b+c;\n",
    "\n",
    "print(sum(2,3,5))"
   ]
  },
  {
   "cell_type": "code",
   "execution_count": 11,
   "metadata": {},
   "outputs": [
    {
     "data": {
      "text/plain": [
       "70"
      ]
     },
     "execution_count": 11,
     "metadata": {},
     "output_type": "execute_result"
    }
   ],
   "source": [
    "add_num = lambda x:x+20\n",
    "\n",
    "add_num(50)"
   ]
  },
  {
   "cell_type": "code",
   "execution_count": 13,
   "metadata": {},
   "outputs": [
    {
     "data": {
      "text/plain": [
       "1.6666666666666667"
      ]
     },
     "execution_count": 13,
     "metadata": {},
     "output_type": "execute_result"
    }
   ],
   "source": [
    "divide = lambda x,y:x/y\n",
    "\n",
    "divide(10,6)"
   ]
  },
  {
   "cell_type": "code",
   "execution_count": 14,
   "metadata": {},
   "outputs": [
    {
     "name": "stdout",
     "output_type": "stream",
     "text": [
      "mrugank\n",
      "39\n"
     ]
    }
   ],
   "source": [
    "def show_args(*args):\n",
    "    for i in args:\n",
    "        print(i)\n",
    "\n",
    "show_args(\"mrugank\",39)"
   ]
  },
  {
   "cell_type": "code",
   "execution_count": 18,
   "metadata": {},
   "outputs": [
    {
     "name": "stdout",
     "output_type": "stream",
     "text": [
      "name => ['mrugank']\n",
      "marks => [39, 96]\n",
      "city => ['mumbai', 'delhi']\n"
     ]
    }
   ],
   "source": [
    "def func(**kwargs):\n",
    "    for key,value in kwargs.items():\n",
    "        print(key,\"=>\",value)\n",
    "\n",
    "func(name=['mrugank'],marks=[39,96],city=['mumbai','delhi'])"
   ]
  },
  {
   "cell_type": "code",
   "execution_count": 20,
   "metadata": {},
   "outputs": [
    {
     "name": "stdout",
     "output_type": "stream",
     "text": [
      "my name is mrugank\n",
      "m\n",
      " \n",
      "y na\n",
      "my n\n",
      "ame is mrugank\n",
      "k\n",
      "n\n"
     ]
    }
   ],
   "source": [
    "a=\"my name is mrugank\"\n",
    "print(a)\n",
    "print(a[0])\n",
    "print(a[2])\n",
    "print(a[1:5])\n",
    "print(a[:4])\n",
    "print(a[4:])\n",
    "print(a[-1])\n",
    "print(a[-2])"
   ]
  },
  {
   "cell_type": "code",
   "execution_count": 22,
   "metadata": {},
   "outputs": [
    {
     "name": "stdout",
     "output_type": "stream",
     "text": [
      "[47, 58, 69, 14, 25, 35, 35, 35, 35, 35, 35]\n"
     ]
    }
   ],
   "source": [
    "def grace(marks):\n",
    "    if marks==33:\n",
    "        return 35\n",
    "    elif marks==34:\n",
    "        return 35\n",
    "    else:\n",
    "        return marks\n",
    "\n",
    "score=[47,58,69,14,25,33,34,33,33,34,33]\n",
    "li=list(map(grace,score)) \n",
    "print(li)"
   ]
  },
  {
   "cell_type": "code",
   "execution_count": 23,
   "metadata": {},
   "outputs": [
    {
     "name": "stdout",
     "output_type": "stream",
     "text": [
      "[14, 25, 33, 34, 33, 33, 34, 33]\n"
     ]
    }
   ],
   "source": [
    "def fill(marks):\n",
    "    if marks<35:\n",
    "        return marks\n",
    "    \n",
    "score=[47,58,69,14,25,33,34,33,33,34,33]\n",
    "\n",
    "failed=list(filter(fill,score))\n",
    "print(failed)"
   ]
  },
  {
   "cell_type": "code",
   "execution_count": 24,
   "metadata": {},
   "outputs": [
    {
     "data": {
      "text/plain": [
       "[False, True, True]"
      ]
     },
     "execution_count": 24,
     "metadata": {},
     "output_type": "execute_result"
    }
   ],
   "source": [
    "list(map(lambda var:var%2==0,[5,6,8]))"
   ]
  },
  {
   "cell_type": "code",
   "execution_count": 25,
   "metadata": {},
   "outputs": [
    {
     "data": {
      "text/plain": [
       "[6, 8]"
      ]
     },
     "execution_count": 25,
     "metadata": {},
     "output_type": "execute_result"
    }
   ],
   "source": [
    "list(filter(lambda var:var%2==0, [5,6,8]))"
   ]
  }
 ],
 "metadata": {
  "kernelspec": {
   "display_name": "Python 3",
   "language": "python",
   "name": "python3"
  },
  "language_info": {
   "codemirror_mode": {
    "name": "ipython",
    "version": 3
   },
   "file_extension": ".py",
   "mimetype": "text/x-python",
   "name": "python",
   "nbconvert_exporter": "python",
   "pygments_lexer": "ipython3",
   "version": "3.12.0"
  }
 },
 "nbformat": 4,
 "nbformat_minor": 2
}
