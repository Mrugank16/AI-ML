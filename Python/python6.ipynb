{
 "cells": [
  {
   "cell_type": "code",
   "execution_count": 1,
   "metadata": {},
   "outputs": [
    {
     "name": "stdout",
     "output_type": "stream",
     "text": [
      "10\n",
      "marks inside function 20\n"
     ]
    }
   ],
   "source": [
    "marks=10;\n",
    "\n",
    "def totol_marks():\n",
    "    marks=20\n",
    "    print('marks inside function', marks)\n",
    "\n",
    "print(marks)\n",
    "totol_marks()"
   ]
  },
  {
   "cell_type": "code",
   "execution_count": 10,
   "metadata": {},
   "outputs": [
    {
     "name": "stdout",
     "output_type": "stream",
     "text": [
      "45\n"
     ]
    }
   ],
   "source": [
    "def func():\n",
    "    global var1\n",
    "    var1=45\n",
    "    print(var1)\n",
    "\n",
    "\n",
    "func()"
   ]
  },
  {
   "cell_type": "code",
   "execution_count": 11,
   "metadata": {},
   "outputs": [
    {
     "data": {
      "text/plain": [
       "45"
      ]
     },
     "execution_count": 11,
     "metadata": {},
     "output_type": "execute_result"
    }
   ],
   "source": [
    "var1"
   ]
  },
  {
   "cell_type": "code",
   "execution_count": 12,
   "metadata": {},
   "outputs": [
    {
     "name": "stdout",
     "output_type": "stream",
     "text": [
      "UserName mrugank\n"
     ]
    }
   ],
   "source": [
    "name=input(\"Enter your name\\n\")\n",
    "print(\"UserName\",name)"
   ]
  },
  {
   "cell_type": "code",
   "execution_count": 15,
   "metadata": {},
   "outputs": [
    {
     "name": "stdout",
     "output_type": "stream",
     "text": [
      "45\n"
     ]
    }
   ],
   "source": [
    "marks=int(input(\"Enter marks\"))\n",
    "print(marks)"
   ]
  },
  {
   "cell_type": "code",
   "execution_count": 17,
   "metadata": {},
   "outputs": [
    {
     "name": "stdout",
     "output_type": "stream",
     "text": [
      "Error\n"
     ]
    }
   ],
   "source": [
    "name=input(\"Enter name\")\n",
    "if name.isalpha():\n",
    "    print(\"UserName is\",name)\n",
    "else:\n",
    "    print(\"Error\")"
   ]
  },
  {
   "cell_type": "code",
   "execution_count": 20,
   "metadata": {},
   "outputs": [
    {
     "name": "stdout",
     "output_type": "stream",
     "text": [
      "134\n"
     ]
    }
   ],
   "source": [
    "marks1=86\n",
    "marks2=48\n",
    "\n",
    "try:\n",
    "    total=marks1+marks2\n",
    "except:\n",
    "    print(\"ONly do int + int\")\n",
    "else:\n",
    "    print(total)"
   ]
  },
  {
   "cell_type": "code",
   "execution_count": 21,
   "metadata": {},
   "outputs": [
    {
     "name": "stdout",
     "output_type": "stream",
     "text": [
      "Thanks for registration\n"
     ]
    }
   ],
   "source": [
    "try:\n",
    "    car_number=input(\"Enter Your Car number \")\n",
    "    name=input(\"Enter Your Name Baby \")\n",
    "    mobile_number=input(\"Enter Your Number Baby \")\n",
    "    if car_number ==\" \":\n",
    "        raise Exception()\n",
    "    elif name ==\" \":\n",
    "        raise Exception()\n",
    "    elif mobile_number ==\" \":\n",
    "        raise Exception()\n",
    "    else:\n",
    "        pass\n",
    "except:\n",
    "    if car_number ==\" \":\n",
    "        print(\"\\n The Registration Field Required\")\n",
    "    if name ==\" \":\n",
    "        print(\"\\n The Name Field is required\")\n",
    "    if mobile_number ==\" \":\n",
    "        print(\"\\n The Mobile Number Field is required\")\n",
    "    \n",
    "else:\n",
    "    print(\"Thanks for registration\")"
   ]
  },
  {
   "cell_type": "code",
   "execution_count": 23,
   "metadata": {},
   "outputs": [
    {
     "name": "stdout",
     "output_type": "stream",
     "text": [
      "Thanks for registration\n"
     ]
    }
   ],
   "source": [
    "try:\n",
    "    car_number=input(\"Enter Your Car number \")\n",
    "    name=input(\"Enter Your Name Baby \")\n",
    "    mobile_number=input(\"Enter Your Number Baby \")\n",
    "    if car_number ==\" \":\n",
    "        raise Exception()\n",
    "    elif name ==\" \":\n",
    "        raise Exception()\n",
    "    elif mobile_number ==\" \":\n",
    "        raise Exception()\n",
    "    else:\n",
    "        pass\n",
    "except:\n",
    "    if car_number ==\" \":\n",
    "        print(\"\\n The Registration Field Required\")\n",
    "    if name ==\" \":\n",
    "        print(\"\\n The Name Field is required\")\n",
    "    if mobile_number ==\" \":\n",
    "        print(\"\\n The Mobile Number Field is required\")\n",
    "    \n",
    "finally:\n",
    "    print(\"Thanks for registration\")"
   ]
  },
  {
   "cell_type": "code",
   "execution_count": 26,
   "metadata": {},
   "outputs": [
    {
     "name": "stdout",
     "output_type": "stream",
     "text": [
      "Look Like You did not enter an integer\n",
      "DOne\n"
     ]
    }
   ],
   "source": [
    "def mobile_num():\n",
    "    try:\n",
    "        val=int(input(\"Enter Your Number \"))\n",
    "    except:\n",
    "        print(\"Look Like You did not enter an integer\")\n",
    "    print(\"DOne\")   \n",
    "\n",
    "mobile_num()"
   ]
  }
 ],
 "metadata": {
  "kernelspec": {
   "display_name": "Python 3",
   "language": "python",
   "name": "python3"
  },
  "language_info": {
   "codemirror_mode": {
    "name": "ipython",
    "version": 3
   },
   "file_extension": ".py",
   "mimetype": "text/x-python",
   "name": "python",
   "nbconvert_exporter": "python",
   "pygments_lexer": "ipython3",
   "version": "3.12.0"
  }
 },
 "nbformat": 4,
 "nbformat_minor": 2
}
