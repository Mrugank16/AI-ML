{
  "nbformat": 4,
  "nbformat_minor": 0,
  "metadata": {
    "colab": {
      "provenance": []
    },
    "kernelspec": {
      "name": "python3",
      "display_name": "Python 3"
    },
    "language_info": {
      "name": "python"
    }
  },
  "cells": [
    {
      "cell_type": "code",
      "execution_count": 7,
      "metadata": {
        "id": "K4BothF4YCBP"
      },
      "outputs": [],
      "source": [
        "class Account:\n",
        "  def __init__(self,name,password):\n",
        "    self.name=name\n",
        "    self.password=password\n",
        "\n",
        "\n",
        "  def login(self):\n",
        "    while True:\n",
        "      name=input(\"Enter Username: \")\n",
        "      password = input(\"Enter password: \")\n",
        "\n",
        "      if name==self.name and password==self.password:\n",
        "        print(\"Logged in Succesfully\")\n",
        "        break\n",
        "      else:\n",
        "        print(\"Invalid Username or Password\")\n",
        "        continue"
      ]
    },
    {
      "cell_type": "code",
      "source": [
        "c=Account(\"Mrugank\",\"1234\")"
      ],
      "metadata": {
        "id": "JZVNb2M6ZU0o"
      },
      "execution_count": 8,
      "outputs": []
    },
    {
      "cell_type": "code",
      "source": [
        "c.login()"
      ],
      "metadata": {
        "colab": {
          "base_uri": "https://localhost:8080/"
        },
        "id": "o44uF63oaGel",
        "outputId": "be2d6b12-19fd-4aea-cedb-82ed47039137"
      },
      "execution_count": 9,
      "outputs": [
        {
          "output_type": "stream",
          "name": "stdout",
          "text": [
            "Enter Username: Mrugank\n",
            "Enter password: 1234\n",
            "Logged in Succesfully\n"
          ]
        }
      ]
    },
    {
      "cell_type": "code",
      "source": [
        "class User_Account(Account):\n",
        "  def __init__(self,acc_number,balance,*args):\n",
        "    super(User_Account,self).__init__(*args)\n",
        "    self.acc_number=acc_number\n",
        "    self.balance=balance\n",
        "\n",
        "  def user_details(self):\n",
        "    while True:\n",
        "      account=int(input(\"Enter your account number: \"))\n",
        "      if account==self.acc_number:\n",
        "        print(\"Name = \",self.name)\n",
        "        print(\"Account Number = \",self.acc_number)\n",
        "        print(\"Balance = \",self.balance)\n",
        "        break\n",
        "      else:\n",
        "        print(\"Invalid Account Number\")\n",
        "        continue\n",
        "\n",
        "  def deposit(self):\n",
        "    print(\"Current Balance : \",self.balance)\n",
        "    add_cash = int(input(\"Enter amount to add : \"))\n",
        "    self.balance+=add_cash\n",
        "    print(\"Account creadited with \",add_cash,\"and now your balance is \",self.balance)\n",
        "\n",
        "  def transfer(self):\n",
        "    print(\"Current Balance : \",self.balance)\n",
        "    withdrawl = int(input(\"Enter amount to withdraw : \"))\n",
        "    if withdrawl>self.balance:\n",
        "      print(\"Insufficient Balance\")\n",
        "    else:\n",
        "      self.balance-=withdrawl\n",
        "      print(\"Account debited with \",withdrawl,\"and now your balance is \",self.balance)\n"
      ],
      "metadata": {
        "id": "nePGP59lb15t"
      },
      "execution_count": 16,
      "outputs": []
    },
    {
      "cell_type": "code",
      "source": [
        "bank=User_Account(1234,10000,\"Mrugank\",\"1234\")"
      ],
      "metadata": {
        "id": "iK5N9Fbcdg_r"
      },
      "execution_count": 23,
      "outputs": []
    },
    {
      "cell_type": "code",
      "source": [
        "bank.login()"
      ],
      "metadata": {
        "colab": {
          "base_uri": "https://localhost:8080/"
        },
        "id": "FIw4LDx5dpcq",
        "outputId": "4f94107e-29e5-42ee-a3c8-b5aababce51a"
      },
      "execution_count": 24,
      "outputs": [
        {
          "output_type": "stream",
          "name": "stdout",
          "text": [
            "Enter Username: Mrugank\n",
            "Enter password: 1234\n",
            "Logged in Succesfully\n"
          ]
        }
      ]
    },
    {
      "cell_type": "code",
      "source": [
        "bank.user_details()"
      ],
      "metadata": {
        "colab": {
          "base_uri": "https://localhost:8080/"
        },
        "id": "c32rGWXGduJf",
        "outputId": "8bcedb1d-4c21-4298-cce2-8e50a9f72efd"
      },
      "execution_count": 25,
      "outputs": [
        {
          "output_type": "stream",
          "name": "stdout",
          "text": [
            "Enter your account number: 1234\n",
            "Name =  Mrugank\n",
            "Account Number =  1234\n",
            "Balance =  10000\n"
          ]
        }
      ]
    },
    {
      "cell_type": "code",
      "source": [
        "bank.deposit()"
      ],
      "metadata": {
        "colab": {
          "base_uri": "https://localhost:8080/"
        },
        "id": "jPoPhpafdy0o",
        "outputId": "ad9dccf7-9364-46c6-bec2-c903e5aa09af"
      },
      "execution_count": 26,
      "outputs": [
        {
          "output_type": "stream",
          "name": "stdout",
          "text": [
            "Current Balance :  10000\n",
            "Enter amount to add : 5000\n",
            "Account creadited with  5000 and now your balance is  15000\n"
          ]
        }
      ]
    },
    {
      "cell_type": "code",
      "source": [
        "bank.transfer()"
      ],
      "metadata": {
        "colab": {
          "base_uri": "https://localhost:8080/"
        },
        "id": "Er0dTVLHd4sv",
        "outputId": "e42eff3c-f9ae-4298-966e-31cc731e28ae"
      },
      "execution_count": 27,
      "outputs": [
        {
          "output_type": "stream",
          "name": "stdout",
          "text": [
            "Current Balance :  15000\n",
            "Enter amount to withdraw : 1563\n",
            "Account debited with  1563 and now your balance is  13437\n"
          ]
        }
      ]
    },
    {
      "cell_type": "code",
      "source": [
        "class Tyres:\n",
        "  def __init__(self,branch,belted_bias,opt_pressure):\n",
        "    self.branch=branch\n",
        "    self.belted_bias=belted_bias\n",
        "    self.opt_pressure=opt_pressure\n",
        "\n",
        "  def __str__(self):\n",
        "    return \"Tyres(branch={},belted_bias={},opt_pressure={})\".format(self.branch,self.belted_bias,self.opt_pressure)\n",
        "\n",
        "class Engine:\n",
        "  def __init__(self,fuel_type,noise_level):\n",
        "    self.fuel_type=fuel_type\n",
        "    self.noise_level=noise_level\n",
        "\n",
        "  def __str__(self):\n",
        "    return \"Engine(fuel_type={},noise_level={})\".format(self.fuel_type,self.noise_level)\n",
        "\n",
        "class Body:\n",
        "  def __init__(self,size):\n",
        "    self.size=size\n",
        "\n",
        "  def __str__(self):\n",
        "    return \"Body(size={})\".format(self.size)"
      ],
      "metadata": {
        "id": "7jq_Gf4UgpZn"
      },
      "execution_count": 28,
      "outputs": []
    },
    {
      "cell_type": "code",
      "source": [
        "class Car():\n",
        "  def __init__(self,Tyres,Body,Engine):\n",
        "    self.Tyres=Tyres\n",
        "    self.Body=Body\n",
        "    self.Engine=Engine\n",
        "\n",
        "  def __str__(self):\n",
        "    return \"Car(Tyres={},Body={},Engine={})\".format(self.Tyres,self.Body,self.Engine)"
      ],
      "metadata": {
        "id": "IyAnzPWAhSK9"
      },
      "execution_count": 29,
      "outputs": []
    },
    {
      "cell_type": "code",
      "source": [
        "t=Tyres(\"CEAT\",True,35)\n",
        "e=Engine(\"Petrol\",50)\n",
        "b=Body(\"Mercedes\")\n",
        "\n",
        "c=Car(t,e,b)\n",
        "print(c)"
      ],
      "metadata": {
        "colab": {
          "base_uri": "https://localhost:8080/"
        },
        "id": "Q_rynjL1hcOi",
        "outputId": "b036da67-c005-4c23-d5c2-541c7df0e21f"
      },
      "execution_count": 30,
      "outputs": [
        {
          "output_type": "stream",
          "name": "stdout",
          "text": [
            "Car(Tyres=Tyres(branch=CEAT,belted_bias=True,opt_pressure=35),Body=Engine(fuel_type=Petrol,noise_level=50),Engine=Body(size=Mercedes))\n"
          ]
        }
      ]
    }
  ]
}