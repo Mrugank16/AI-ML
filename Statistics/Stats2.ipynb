{
  "nbformat": 4,
  "nbformat_minor": 0,
  "metadata": {
    "colab": {
      "provenance": []
    },
    "kernelspec": {
      "name": "python3",
      "display_name": "Python 3"
    },
    "language_info": {
      "name": "python"
    }
  },
  "cells": [
    {
      "cell_type": "markdown",
      "source": [
        "# PDF & CDF\n",
        "\n",
        "- in pdf we find the probability for a certain event but in cdf we get the probability of a certain period.\n",
        "\n"
      ],
      "metadata": {
        "id": "DQsVDK4d0e49"
      }
    },
    {
      "cell_type": "markdown",
      "source": [
        "# Probability Problem"
      ],
      "metadata": {
        "id": "5MdNq6X21FXx"
      }
    },
    {
      "cell_type": "markdown",
      "source": [
        "Problem 1 - There are 500 Students whose marks are captured based on their ability in the test if the same test given to a new student . what is the probablity of getting 55 marks."
      ],
      "metadata": {
        "id": "KoNJEzZT1sUQ"
      }
    },
    {
      "cell_type": "code",
      "execution_count": 1,
      "metadata": {
        "id": "nI5s9zcC0CTW"
      },
      "outputs": [],
      "source": [
        "from numpy.random import randint as ri\n",
        "import pandas as pd"
      ]
    },
    {
      "cell_type": "code",
      "source": [
        "marks=ri(1,101,500)\n",
        "marks=pd.Series(marks)\n",
        "marks.head()"
      ],
      "metadata": {
        "colab": {
          "base_uri": "https://localhost:8080/"
        },
        "id": "MTU6wFGr140V",
        "outputId": "8e3d4fd0-22ad-4390-ae11-cd269586b0ee"
      },
      "execution_count": 2,
      "outputs": [
        {
          "output_type": "execute_result",
          "data": {
            "text/plain": [
              "0    63\n",
              "1    37\n",
              "2    61\n",
              "3    63\n",
              "4    98\n",
              "dtype: int64"
            ]
          },
          "metadata": {},
          "execution_count": 2
        }
      ]
    },
    {
      "cell_type": "code",
      "source": [
        "mean = marks.mean()\n",
        "std=marks.std()\n",
        "\n",
        "print(\"Mean:\",mean)\n",
        "print(\"Std:\",std)"
      ],
      "metadata": {
        "colab": {
          "base_uri": "https://localhost:8080/"
        },
        "id": "6RS50pEj2EuQ",
        "outputId": "2abd2acd-4513-4dee-fabf-a7915507a295"
      },
      "execution_count": 3,
      "outputs": [
        {
          "output_type": "stream",
          "name": "stdout",
          "text": [
            "Mean: 51.184\n",
            "Std: 29.349837647589805\n"
          ]
        }
      ]
    },
    {
      "cell_type": "code",
      "source": [
        "import scipy.stats as st\n",
        "\n",
        "x=55\n",
        "prob = st.norm.cdf(x, loc=mean, scale=std)\n",
        "print(prob)"
      ],
      "metadata": {
        "colab": {
          "base_uri": "https://localhost:8080/"
        },
        "id": "6JLx98NA2P7G",
        "outputId": "ae94e608-1fa2-452f-a7a7-1150e2bb8d55"
      },
      "execution_count": 5,
      "outputs": [
        {
          "output_type": "stream",
          "name": "stdout",
          "text": [
            "0.5517238102581336\n"
          ]
        }
      ]
    },
    {
      "cell_type": "markdown",
      "source": [
        "Problem 2 - There are 500 Students whose marks are captured baesd on their ability in the test if the same test given to a new student . what is the probablity of getting 80>marks."
      ],
      "metadata": {
        "id": "Ib6fLaUS2egl"
      }
    },
    {
      "cell_type": "code",
      "source": [
        "x=80\n",
        "prob_80 = st.norm.cdf(x, loc=mean, scale=std)\n",
        "prob_grater_than_80 = 1-prob_80\n",
        "print(prob_grater_than_80)"
      ],
      "metadata": {
        "colab": {
          "base_uri": "https://localhost:8080/"
        },
        "id": "s-KtCXGQ2g78",
        "outputId": "73755a55-bfb2-4228-e594-f08d75c99d2b"
      },
      "execution_count": 6,
      "outputs": [
        {
          "output_type": "stream",
          "name": "stdout",
          "text": [
            "0.1630964290107062\n"
          ]
        }
      ]
    },
    {
      "cell_type": "markdown",
      "source": [
        "Problem 3 = Find The Probablity of Getting Marks between 30-45"
      ],
      "metadata": {
        "id": "EJQ3lqlx33q6"
      }
    },
    {
      "cell_type": "code",
      "source": [
        "prob_30  = (30-mean)/std\n",
        "prob_45 = (45-mean)/std\n",
        "print(prob_30)\n",
        "print(prob_45)"
      ],
      "metadata": {
        "colab": {
          "base_uri": "https://localhost:8080/"
        },
        "id": "jwIAUTQJ36hI",
        "outputId": "5911ed2c-8623-4df0-b44c-96d3e3a21b99"
      },
      "execution_count": 7,
      "outputs": [
        {
          "output_type": "stream",
          "name": "stdout",
          "text": [
            "-0.7217757131865981\n",
            "-0.21069963228596683\n"
          ]
        }
      ]
    },
    {
      "cell_type": "code",
      "source": [
        "diff =0.4168 -  0.2358\n",
        "print(diff)"
      ],
      "metadata": {
        "colab": {
          "base_uri": "https://localhost:8080/"
        },
        "id": "SlQV8-ku4OeT",
        "outputId": "b68abfc0-0238-4bda-ffc6-2d3d08bea1ab"
      },
      "execution_count": 9,
      "outputs": [
        {
          "output_type": "stream",
          "name": "stdout",
          "text": [
            "0.181\n"
          ]
        }
      ]
    },
    {
      "cell_type": "markdown",
      "source": [
        "# Hypothesis\n",
        "\n",
        "1. Null Hypothesis (H0)\n",
        "2. Alternate Hypothesis (Ha)\n",
        "\n",
        "## Types of Tests\n",
        "\n",
        "1. One Tail Test\n",
        "  1. Left Tail Test -> alternate hypothesis contains \"<\" sign\n",
        "  2. Right Tail Test -> alternate hypothesis contains \">\" sign\n",
        "\n",
        "2. Two Tail Test\n",
        "  - The Alternate Hypothesis contains \"!=\" sign"
      ],
      "metadata": {
        "id": "HMd307gA4uCv"
      }
    },
    {
      "cell_type": "markdown",
      "source": [
        "Problem 1 -\n",
        "A car manufacturing company claims mileage of their cars is 30KMPL . The population standard deviation is known from the past experiance to be 1.8KMPL .A car rentall company wants to test the null hypothesis that the average mileage is at least 30KMPL car rental representative drove 37 cars (Samples) of the same company and record each car mileage .The average Mileage of the sample turned out to be 29.2 KMPL.\n",
        "\n",
        "Test the null hypothesis ? (H0) Null Hypothesis >=30 (H1) Alternate Hypothesis <=30"
      ],
      "metadata": {
        "id": "MEGowyQh6A4k"
      }
    },
    {
      "cell_type": "code",
      "source": [
        "import numpy as np\n",
        "mean=30\n",
        "sample_mean=29.2\n",
        "std=1.8\n",
        "n=37"
      ],
      "metadata": {
        "id": "5xGJN9SI6PHg"
      },
      "execution_count": 10,
      "outputs": []
    },
    {
      "cell_type": "code",
      "source": [
        "z = (sample_mean - mean)/(std/np.sqrt(n))\n",
        "print(z)"
      ],
      "metadata": {
        "colab": {
          "base_uri": "https://localhost:8080/"
        },
        "id": "1BJRyyxc6XSn",
        "outputId": "6d3c9f8d-1042-4aad-8173-427628b9dc9d"
      },
      "execution_count": 11,
      "outputs": [
        {
          "output_type": "stream",
          "name": "stdout",
          "text": [
            "-2.703450013465878\n"
          ]
        }
      ]
    },
    {
      "cell_type": "markdown",
      "source": [
        "value for this z in table is --> 0.0035"
      ],
      "metadata": {
        "id": "OLoLbdni6kV2"
      }
    },
    {
      "cell_type": "code",
      "source": [
        "# now lets try it using statistics tools\n",
        "import scipy.stats as st\n",
        "\n",
        "p_value = st.norm.cdf(sample_mean, loc=mean, scale=std/np.sqrt(n))\n",
        "print(p_value)"
      ],
      "metadata": {
        "colab": {
          "base_uri": "https://localhost:8080/"
        },
        "id": "kEDzooAB6q_H",
        "outputId": "f10a2c83-9fba-4a35-9dc2-acd16224526e"
      },
      "execution_count": 12,
      "outputs": [
        {
          "output_type": "stream",
          "name": "stdout",
          "text": [
            "0.0034311884385019894\n"
          ]
        }
      ]
    },
    {
      "cell_type": "markdown",
      "source": [
        "here p_value <0.05 so we will reject the null hypothesis"
      ],
      "metadata": {
        "id": "VsjwV_DN69eB"
      }
    },
    {
      "cell_type": "markdown",
      "source": [
        "There are 2 types of error involed in null hypothesis rejection process\n",
        "1. Type 1 Error -> H0 is true but rejected\n",
        "2. Type 2 Error -> H0 is false but we didn't reject"
      ],
      "metadata": {
        "id": "9Bk8rZHK7IEB"
      }
    }
  ]
}