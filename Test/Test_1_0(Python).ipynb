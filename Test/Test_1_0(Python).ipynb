{
  "cells": [
    {
      "cell_type": "markdown",
      "source": [
        "Name- Mrugank Raut"
      ],
      "metadata": {
        "id": "HSm9NibxPRfN"
      },
      "id": "HSm9NibxPRfN"
    },
    {
      "cell_type": "markdown",
      "source": [
        "## Multiple-Choice Questions (MCQs)"
      ],
      "metadata": {
        "id": "cgHhdxNGNrBd"
      },
      "id": "cgHhdxNGNrBd"
    },
    {
      "cell_type": "markdown",
      "source": [
        "### Question 1\n",
        "# What is the output of the following code?\n",
        "# print(type(5.0))\n",
        "# a) int\n",
        "# b) float  \n",
        "# c) str\n",
        "# d) list\n",
        "# Answer is => b)float\n",
        "\n",
        "================================================================================"
      ],
      "metadata": {
        "id": "osT6of4hNsNJ"
      },
      "id": "osT6of4hNsNJ"
    },
    {
      "cell_type": "markdown",
      "source": [
        "### Question 2\n",
        "# What is the correct syntax to output \"Hello World\" in Python?\n",
        "# a) echo \"Hello World\"\n",
        "# b) print(\"Hello World\")\n",
        "# c) printf(\"Hello World\")\n",
        "# d) System.out.println(\"Hello World\")\n",
        "# Answer is =>  b)print(\"Hello World\")\n",
        "================================================================================\n"
      ],
      "metadata": {
        "id": "_vdP-GOjNxbx"
      },
      "id": "_vdP-GOjNxbx"
    },
    {
      "cell_type": "markdown",
      "source": [
        "### Question 3\n",
        "# Which of the following is a correct variable declaration in Python?\n",
        "# a) var x = 10\n",
        "# b) int x = 10\n",
        "# c) x = 10\n",
        "# d) declare x = 10\n",
        "# Answer is =>  c) x=10\n",
        "================================================================================\n"
      ],
      "metadata": {
        "id": "kepRfjLsN_Eb"
      },
      "id": "kepRfjLsN_Eb"
    },
    {
      "cell_type": "markdown",
      "source": [
        "### Question 4\n",
        "# What is the output of the following code?\n",
        "# print(2 ** 3)\n",
        "# a) 6\n",
        "# b) 8\n",
        "# c) 9\n",
        "# d) 12\n",
        "# Answer is => b)8\n",
        "================================================================================\n"
      ],
      "metadata": {
        "id": "bgVTQGv_ODPL"
      },
      "id": "bgVTQGv_ODPL"
    },
    {
      "cell_type": "markdown",
      "source": [
        "### Question 5\n",
        "# Which of the following is used to define a block of code in Python?\n",
        "# a) Curly braces\n",
        "# b) Parentheses\n",
        "# c) Indentation\n",
        "# d) Quotation marks\n",
        "# Answer is => c) Indentation\n",
        "================================================================================\n"
      ],
      "metadata": {
        "id": "RtzEXKbvOF51"
      },
      "id": "RtzEXKbvOF51"
    },
    {
      "cell_type": "markdown",
      "source": [
        "### Question 6\n",
        "# How do you start a comment in Python?\n",
        "# a) //\n",
        "# b) /*\n",
        "# c) <!--\n",
        "# d) '#'\n",
        "# Answer is => d)'#'\n",
        "================================================================================\n"
      ],
      "metadata": {
        "id": "4SinDR_pOIrL"
      },
      "id": "4SinDR_pOIrL"
    },
    {
      "cell_type": "markdown",
      "source": [
        "### Question 7\n",
        "# What is the output of the following code?\n",
        "# print(\"Hello\" + \" \" + \"World\")\n",
        "# a) Hello World\n",
        "# b) HelloWorld\n",
        "# c) Hello+World\n",
        "# d) Error\n",
        "# Answer is => a) Hello World\n",
        "================================================================================\n"
      ],
      "metadata": {
        "id": "gL-i79nrOLu_"
      },
      "id": "gL-i79nrOLu_"
    },
    {
      "cell_type": "markdown",
      "source": [
        "### Question 8\n",
        "# Which of the following is the correct way to create a list in Python?\n",
        "# a) list = [1, 2, 3]\n",
        "# b) list = (1, 2, 3)\n",
        "# c) list = {1, 2, 3}\n",
        "# d) list = 1, 2, 3\n",
        "# Answer is => a) list = [1, 2, 3]\n",
        "================================================================================\n"
      ],
      "metadata": {
        "id": "uY2oT7jyOOpL"
      },
      "id": "uY2oT7jyOOpL"
    },
    {
      "cell_type": "markdown",
      "source": [
        "### Question 9\n",
        "# What is the output of the following code?\n",
        "# a = [1, 2, 3]\n",
        "# print(len(a))\n",
        "# a) 2\n",
        "# b) 3\n",
        "# c) 4\n",
        "# d) Error\n",
        "# Answer is => b) 3\n",
        "================================================================================\n"
      ],
      "metadata": {
        "id": "HjDEVF92ORiP"
      },
      "id": "HjDEVF92ORiP"
    },
    {
      "cell_type": "markdown",
      "source": [
        "### Question 10\n",
        "# Which of the following statements is true?\n",
        "# a) A tuple is mutable\n",
        "# b) A list is immutable\n",
        "# c) A tuple is immutable\n",
        "# d) A list is immutable and a tuple is mutable\n",
        "# Answer is => c) A tuple is immutable\n",
        "================================================================================\n"
      ],
      "metadata": {
        "id": "IrmNKLNoOVno"
      },
      "id": "IrmNKLNoOVno"
    },
    {
      "cell_type": "markdown",
      "source": [
        "### Question 11\n",
        "# What will be the output of the following code?\n",
        "# x = 10\n",
        "# if x > 5:\n",
        "#     print(\"Greater\")\n",
        "# else:\n",
        "#     print(\"Smaller\")\n",
        "# a) Greater\n",
        "# b) Smaller\n",
        "# c) Error\n",
        "# d) None of the above\n",
        "# Answer is => a) Greater\n",
        "================================================================================\n"
      ],
      "metadata": {
        "id": "xbrZ2QStOZPx"
      },
      "id": "xbrZ2QStOZPx"
    },
    {
      "cell_type": "markdown",
      "source": [
        "### Question 12\n",
        "# How do you create a dictionary in Python?\n",
        "# a) dict = [1, 2, 3]\n",
        "# b) dict = {1, 2, 3}\n",
        "# c) dict = {\"one\": 1, \"two\": 2, \"three\": 3}\n",
        "# d) dict = (1, 2, 3)\n",
        "# Answer is => c) dict = {\"one\": 1, \"two\": 2, \"three\": 3}\n",
        "================================================================================\n",
        "\n"
      ],
      "metadata": {
        "id": "uMV_nhw9OceM"
      },
      "id": "uMV_nhw9OceM"
    },
    {
      "cell_type": "markdown",
      "source": [
        "### Question 13\n",
        "# What is the output of the following code?\n",
        "# x = [1, 2, 3, 4]\n",
        "# print(x[1:3])\n",
        "# a) [1, 2]\n",
        "# b) [2, 3]\n",
        "# c) [3, 4]\n",
        "# d) [2, 3, 4]\n",
        "# Answer is => b) [2, 3]\n",
        "================================================================================\n"
      ],
      "metadata": {
        "id": "HbUSSPh1OgI2"
      },
      "id": "HbUSSPh1OgI2"
    },
    {
      "cell_type": "markdown",
      "source": [
        "### Question 14\n",
        "# Which of the following methods can be used to add an element to a list?\n",
        "# a) append()\n",
        "# b) add()\n",
        "# c) insert()\n",
        "# d) extend()\n",
        "# Answer is => a) append()\n",
        "================================================================================\n"
      ],
      "metadata": {
        "id": "moSkSOxsOkU-"
      },
      "id": "moSkSOxsOkU-"
    },
    {
      "cell_type": "markdown",
      "source": [
        "### Question 15\n",
        "# What is the correct way to handle exceptions in Python?\n",
        "# a) try-except\n",
        "# b) try-catch\n",
        "# c) do-except\n",
        "# d) do-catch\n",
        "# Answer is => a) try-except\n",
        "================================================================================\n"
      ],
      "metadata": {
        "id": "IfMsHwLYOn4w"
      },
      "id": "IfMsHwLYOn4w"
    },
    {
      "cell_type": "markdown",
      "source": [
        "## Practice Questions"
      ],
      "metadata": {
        "id": "9dTnk9IlJsbH"
      },
      "id": "9dTnk9IlJsbH"
    },
    {
      "cell_type": "markdown",
      "source": [
        "### Question 1\n",
        "### Write a Python program to check if a number is even or odd.\n",
        "\n",
        "\n"
      ],
      "metadata": {
        "id": "1YfoXAu8JwM5"
      },
      "id": "1YfoXAu8JwM5"
    },
    {
      "cell_type": "code",
      "execution_count": 2,
      "id": "f87f0cd6-10e5-43d9-aa0f-ac44f1880427",
      "metadata": {
        "colab": {
          "base_uri": "https://localhost:8080/"
        },
        "id": "f87f0cd6-10e5-43d9-aa0f-ac44f1880427",
        "outputId": "546d254e-0691-4ab7-95c1-2222f53b8602"
      },
      "outputs": [
        {
          "output_type": "stream",
          "name": "stdout",
          "text": [
            "Enter a number: 16\n",
            "16  is even\n"
          ]
        }
      ],
      "source": [
        "num=int(input(\"Enter a number: \"))\n",
        "if num%2==0:\n",
        "    print(num,\" is even\")\n",
        "else:\n",
        "    print(num,\" is odd\")"
      ]
    },
    {
      "cell_type": "markdown",
      "source": [
        "### Question 2\n",
        "### Write a Python program to find the factorial of a given number using a loop.\n"
      ],
      "metadata": {
        "id": "fnPJnb7XJ-Tx"
      },
      "id": "fnPJnb7XJ-Tx"
    },
    {
      "cell_type": "code",
      "execution_count": 4,
      "id": "b65847e4-f05d-4eee-a186-eb801a0c9d8f",
      "metadata": {
        "colab": {
          "base_uri": "https://localhost:8080/"
        },
        "id": "b65847e4-f05d-4eee-a186-eb801a0c9d8f",
        "outputId": "c00bf971-f87e-47ab-ed86-1ec1520f23cf"
      },
      "outputs": [
        {
          "output_type": "stream",
          "name": "stdout",
          "text": [
            "Enter a number: 6\n",
            "Factorial of 6  is 720\n"
          ]
        }
      ],
      "source": [
        "def factorial(n):\n",
        "    result = 1\n",
        "    for i in range(1, n + 1):\n",
        "        result *= i\n",
        "    return result\n",
        "\n",
        "number = int(input(\"Enter a number: \"))\n",
        "print(f\"Factorial of\",number,\" is\",factorial(number))"
      ]
    },
    {
      "cell_type": "markdown",
      "source": [
        "### Question 3\n",
        "### Write a Python program to create a list of the first 10 natural numbers and then print each number.\n",
        "\n",
        "natural_numbers = list(range(1, 11))\n",
        "for number in natural_numbers:\n",
        "    print(number)"
      ],
      "metadata": {
        "id": "6TAyjF34KsVV"
      },
      "id": "6TAyjF34KsVV"
    },
    {
      "cell_type": "code",
      "execution_count": 5,
      "id": "e40a96f9-72e1-437d-8e2b-b9360040a277",
      "metadata": {
        "colab": {
          "base_uri": "https://localhost:8080/"
        },
        "id": "e40a96f9-72e1-437d-8e2b-b9360040a277",
        "outputId": "d20ba4f1-4c5a-4f5d-9cb3-b4bb3b362aea"
      },
      "outputs": [
        {
          "output_type": "stream",
          "name": "stdout",
          "text": [
            "1\n",
            "2\n",
            "3\n",
            "4\n",
            "5\n",
            "6\n",
            "7\n",
            "8\n",
            "9\n",
            "10\n"
          ]
        }
      ],
      "source": [
        "natural_numbers = list(range(1, 11))\n",
        "for number in natural_numbers:\n",
        "    print(number)"
      ]
    },
    {
      "cell_type": "markdown",
      "source": [
        "### Question 4\n",
        "### Write a Python program to calculate the sum of all numbers in a list.\n"
      ],
      "metadata": {
        "id": "e1rugFAUK_Yu"
      },
      "id": "e1rugFAUK_Yu"
    },
    {
      "cell_type": "code",
      "execution_count": 6,
      "id": "cb93b572-fc58-45f3-b16c-c25194a6ee5f",
      "metadata": {
        "colab": {
          "base_uri": "https://localhost:8080/"
        },
        "id": "cb93b572-fc58-45f3-b16c-c25194a6ee5f",
        "outputId": "974b62f5-c2a8-4560-fe4e-88913b7c3388"
      },
      "outputs": [
        {
          "output_type": "stream",
          "name": "stdout",
          "text": [
            "sum of all numbers in list is 18\n"
          ]
        }
      ],
      "source": [
        "l1=[3,4,5,6]\n",
        "print(\"sum of all numbers in list is\", sum(l1))"
      ]
    },
    {
      "cell_type": "markdown",
      "source": [
        "### Question 5\n",
        "### Write a Python program to reverse a string."
      ],
      "metadata": {
        "id": "5VUr25cjLOSX"
      },
      "id": "5VUr25cjLOSX"
    },
    {
      "cell_type": "code",
      "execution_count": 8,
      "id": "f5e00f97-195e-42c5-aee3-8e7d5e430cc9",
      "metadata": {
        "colab": {
          "base_uri": "https://localhost:8080/"
        },
        "id": "f5e00f97-195e-42c5-aee3-8e7d5e430cc9",
        "outputId": "f091086d-d20c-40e6-f6be-f9cfd023b861"
      },
      "outputs": [
        {
          "output_type": "stream",
          "name": "stdout",
          "text": [
            "tuaR knagurM\n"
          ]
        }
      ],
      "source": [
        "strg=\"Mrugank Raut\"\n",
        "reverse_strg=strg[::-1]\n",
        "print(reverse_strg)"
      ]
    },
    {
      "cell_type": "markdown",
      "source": [
        "### Question 6\n",
        "### Write a Python program to find the largest number in a list."
      ],
      "metadata": {
        "id": "UygXCVYgLy-o"
      },
      "id": "UygXCVYgLy-o"
    },
    {
      "cell_type": "code",
      "execution_count": 9,
      "id": "4329d690-7d0c-432a-a9b8-fafa218c7526",
      "metadata": {
        "colab": {
          "base_uri": "https://localhost:8080/"
        },
        "id": "4329d690-7d0c-432a-a9b8-fafa218c7526",
        "outputId": "45ff9c60-0044-459e-d8dd-aaa28066f6f8"
      },
      "outputs": [
        {
          "output_type": "stream",
          "name": "stdout",
          "text": [
            "largest number in list is 13111\n"
          ]
        }
      ],
      "source": [
        "ls=[21,31,5121,13111,631]\n",
        "print(\"largest number in list is\",max(ls))"
      ]
    },
    {
      "cell_type": "markdown",
      "source": [
        "### Question 7\n",
        "### Write a Python program to print the multiplication table of any number provided by the user."
      ],
      "metadata": {
        "id": "GZkOxjsWL-tV"
      },
      "id": "GZkOxjsWL-tV"
    },
    {
      "cell_type": "code",
      "execution_count": 10,
      "id": "8d4325f9-d3d3-485e-8468-460ca97740d4",
      "metadata": {
        "colab": {
          "base_uri": "https://localhost:8080/"
        },
        "id": "8d4325f9-d3d3-485e-8468-460ca97740d4",
        "outputId": "c6f51fc7-50d4-498b-e259-2a2b75eae27e"
      },
      "outputs": [
        {
          "output_type": "stream",
          "name": "stdout",
          "text": [
            "Enter a number: 7\n",
            "7 X 1 = 7\n",
            "7 X 2 = 14\n",
            "7 X 3 = 21\n",
            "7 X 4 = 28\n",
            "7 X 5 = 35\n",
            "7 X 6 = 42\n",
            "7 X 7 = 49\n",
            "7 X 8 = 56\n",
            "7 X 9 = 63\n",
            "7 X 10 = 70\n"
          ]
        }
      ],
      "source": [
        "num=int(input(\"Enter a number: \"))\n",
        "for i in range(1,11):\n",
        "  print(num,\"X\",i,\"=\",num*i)"
      ]
    },
    {
      "cell_type": "markdown",
      "source": [
        "### Question 8\n",
        "### Write a Python program to count the number of vowels in a string."
      ],
      "metadata": {
        "id": "kwHTSSt-MiW1"
      },
      "id": "kwHTSSt-MiW1"
    },
    {
      "cell_type": "code",
      "execution_count": 11,
      "id": "660fe550-6961-4fb4-a22d-19fcdb1a5fa1",
      "metadata": {
        "colab": {
          "base_uri": "https://localhost:8080/"
        },
        "id": "660fe550-6961-4fb4-a22d-19fcdb1a5fa1",
        "outputId": "86989e9c-ef61-49c6-cbaa-982782036944"
      },
      "outputs": [
        {
          "output_type": "stream",
          "name": "stdout",
          "text": [
            "Enter the string to count vowels: jddkjcboklcnebu \n",
            "Number of vowels in the string: 3\n"
          ]
        }
      ],
      "source": [
        "string=input(\"Enter the string to count vowels: \")\n",
        "vowels=\"AEIOUaeiou\"\n",
        "count=0\n",
        "for char in string:\n",
        "    if char in vowels:\n",
        "        count+=1\n",
        "print(\"Number of vowels in the string:\",count)"
      ]
    },
    {
      "cell_type": "markdown",
      "source": [
        "### Question 9\n",
        "### Write a Python program to convert a list of tuples into a dictionary."
      ],
      "metadata": {
        "id": "_KpxT3TqM4Si"
      },
      "id": "_KpxT3TqM4Si"
    },
    {
      "cell_type": "code",
      "execution_count": 12,
      "id": "f55e2885-6f89-4cd6-9fcc-8d69ed9cf981",
      "metadata": {
        "colab": {
          "base_uri": "https://localhost:8080/"
        },
        "id": "f55e2885-6f89-4cd6-9fcc-8d69ed9cf981",
        "outputId": "b5d2d2ec-8777-4555-d817-55a832dee24a"
      },
      "outputs": [
        {
          "output_type": "stream",
          "name": "stdout",
          "text": [
            "{'Mrugank': 39, 'Arnav': 9}\n"
          ]
        }
      ],
      "source": [
        "list_of_tuples=[('Mrugank',39),('Arnav',9)]\n",
        "dictionary=dict(list_of_tuples)\n",
        "print(dictionary)"
      ]
    },
    {
      "cell_type": "markdown",
      "source": [
        "### Question 10\n",
        "### Write a Python program to check if a given string is a palindrome."
      ],
      "metadata": {
        "id": "PIN4L9jyNP3Z"
      },
      "id": "PIN4L9jyNP3Z"
    },
    {
      "cell_type": "code",
      "source": [
        "string=input(\"Enter a string: \")\n",
        "if string==string[::-1]:\n",
        "    print(\"The string is a palindrome\")\n",
        "else:\n",
        "    print(\"The string is not a palindrome\")"
      ],
      "metadata": {
        "colab": {
          "base_uri": "https://localhost:8080/"
        },
        "id": "u_m1T3iqMkFN",
        "outputId": "a43f2bc7-57fc-4b5e-d882-fae50b4e8e5a"
      },
      "id": "u_m1T3iqMkFN",
      "execution_count": 13,
      "outputs": [
        {
          "output_type": "stream",
          "name": "stdout",
          "text": [
            "Enter a string: aebea\n",
            "The string is a palindrome\n"
          ]
        }
      ]
    }
  ],
  "metadata": {
    "kernelspec": {
      "display_name": "Python 3 (ipykernel)",
      "language": "python",
      "name": "python3"
    },
    "language_info": {
      "codemirror_mode": {
        "name": "ipython",
        "version": 3
      },
      "file_extension": ".py",
      "mimetype": "text/x-python",
      "name": "python",
      "nbconvert_exporter": "python",
      "pygments_lexer": "ipython3",
      "version": "3.10.12"
    },
    "colab": {
      "provenance": []
    }
  },
  "nbformat": 4,
  "nbformat_minor": 5
}