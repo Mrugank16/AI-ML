{
  "cells": [
    {
      "cell_type": "markdown",
      "id": "a2d03c1b-3b7f-4e29-aed5-fe7c3c93a61c",
      "metadata": {
        "id": "a2d03c1b-3b7f-4e29-aed5-fe7c3c93a61c"
      },
      "source": [
        "# Statistics Test 2.0"
      ]
    },
    {
      "cell_type": "markdown",
      "id": "eacdfe41-4c50-4a8d-8af9-25d78ccbab02",
      "metadata": {
        "id": "eacdfe41-4c50-4a8d-8af9-25d78ccbab02"
      },
      "source": [
        "Time - 1.30 Hr\n",
        "\n",
        "\n",
        "Total Marks = 60\n",
        "\n"
      ]
    },
    {
      "cell_type": "markdown",
      "source": [
        "**MCQ**"
      ],
      "metadata": {
        "id": "-h45Y-7UcYVW"
      },
      "id": "-h45Y-7UcYVW"
    },
    {
      "cell_type": "markdown",
      "source": [
        "**Which of the following is a measure of central tendency?**\n",
        "\n",
        "    A) Variance\n",
        "    B) Standard Deviation\n",
        "    C) Mean\n",
        "    D) Range"
      ],
      "metadata": {
        "id": "-0TTQIaXcLJF"
      },
      "id": "-0TTQIaXcLJF"
    },
    {
      "cell_type": "markdown",
      "source": [
        "Ans-> C) Mean"
      ],
      "metadata": {
        "id": "QPYnk6lrW2qP"
      },
      "id": "QPYnk6lrW2qP"
    },
    {
      "cell_type": "markdown",
      "source": [
        "**In a dataset with values [2, 4, 4, 6, 8], what is the median?**\n",
        "\n",
        "    A) 4\n",
        "    B) 4.5\n",
        "    C) 6\n",
        "    D) 8"
      ],
      "metadata": {
        "id": "YEex8H5ocLLr"
      },
      "id": "YEex8H5ocLLr"
    },
    {
      "cell_type": "markdown",
      "source": [
        "Ans-> A) 4"
      ],
      "metadata": {
        "id": "Pp1Emi-tXJip"
      },
      "id": "Pp1Emi-tXJip"
    },
    {
      "cell_type": "markdown",
      "source": [
        "**Inferential statistics are used to:**\n",
        "\n",
        "    A) Describe the data's central tendency\n",
        "    B) Summarize the data\n",
        "    C) Make predictions or inferences about a population based on a sample\n",
        "    D) Visualize the data"
      ],
      "metadata": {
        "id": "NLR39gAncLNz"
      },
      "id": "NLR39gAncLNz"
    },
    {
      "cell_type": "markdown",
      "source": [
        "Ans-> C) Make predictions or inferences about a population based on a sample"
      ],
      "metadata": {
        "id": "TN9u5rPiXQ78"
      },
      "id": "TN9u5rPiXQ78"
    },
    {
      "cell_type": "markdown",
      "source": [
        "**What does a confidence interval represent?**\n",
        "\n",
        "    A) The range within which the population mean is expected to fall with a certain probability\n",
        "    B) The exact value of the population mean\n",
        "    C) The variability within the sample\n",
        "    D) The number of samples required"
      ],
      "metadata": {
        "id": "gxSeoRancLP9"
      },
      "id": "gxSeoRancLP9"
    },
    {
      "cell_type": "markdown",
      "source": [
        "Ans-> A) The range within which the population mean is expected to fall with a certain probability"
      ],
      "metadata": {
        "id": "NwbrmcAuXiKa"
      },
      "id": "NwbrmcAuXiKa"
    },
    {
      "cell_type": "markdown",
      "source": [
        "**According to the Central Limit Theorem, as the sample size increases, the distribution of the sample mean:**\n",
        "\n",
        "    A) Becomes skewed\n",
        "    B) Approaches a normal distribution\n",
        "    C) Remains uniform\n",
        "    D) Becomes bimodal"
      ],
      "metadata": {
        "id": "8VcnEmX9cLSM"
      },
      "id": "8VcnEmX9cLSM"
    },
    {
      "cell_type": "markdown",
      "source": [
        "Ans-> B) Approaches a normal distribution"
      ],
      "metadata": {
        "id": "iAw49SJLXvex"
      },
      "id": "iAw49SJLXvex"
    },
    {
      "cell_type": "markdown",
      "source": [
        "**The Central Limit Theorem is important because:**\n",
        "\n",
        "    A) It helps in defining the exact population distribution\n",
        "    B) It allows for the use of normal distribution to make inferences about sample means\n",
        "    C) It eliminates the need for sampling\n",
        "    D) It ensures sample sizes are always large"
      ],
      "metadata": {
        "id": "mQAz26m_cLUq"
      },
      "id": "mQAz26m_cLUq"
    },
    {
      "cell_type": "markdown",
      "source": [
        "Ans-> B) It allows for the use of normal distribution to make inferences about sample means"
      ],
      "metadata": {
        "id": "cg1f1ugRYGIZ"
      },
      "id": "cg1f1ugRYGIZ"
    },
    {
      "cell_type": "markdown",
      "source": [
        "**ANOVA is used to test:**\n",
        "\n",
        "    A) The association between two categorical variables\n",
        "    B) The differences between means of three or more groups\n",
        "    C) The proportion of a sample\n",
        "    D) The correlation between two continuous variables"
      ],
      "metadata": {
        "id": "F1T_g8pgcLWv"
      },
      "id": "F1T_g8pgcLWv"
    },
    {
      "cell_type": "markdown",
      "source": [
        "Ans-> B) The differences between means of three or more groups"
      ],
      "metadata": {
        "id": "3kVIMeXMYOMI"
      },
      "id": "3kVIMeXMYOMI"
    },
    {
      "cell_type": "markdown",
      "source": [
        "**A p-value less than 0.05 in an ANOVA test indicates:**\n",
        "\n",
        "    A) There is no significant difference between group means\n",
        "    B) The means of at least one group are significantly different from others\n",
        "    C) The variances within groups are equal\n",
        "    D) The sample size is too small"
      ],
      "metadata": {
        "id": "MXX8Exw3dBzd"
      },
      "id": "MXX8Exw3dBzd"
    },
    {
      "cell_type": "markdown",
      "source": [
        "Ans-> B) The means of at least one group are significantly different from others"
      ],
      "metadata": {
        "id": "7dxFGTbRYXyl"
      },
      "id": "7dxFGTbRYXyl"
    },
    {
      "cell_type": "markdown",
      "source": [
        "**The chi-square test of independence assesses:**\n",
        "\n",
        "    A) If two continuous variables are related\n",
        "    B) The goodness-of-fit of a model\n",
        "    C) The association between two categorical variables\n",
        "    D) The variance of a single variable"
      ],
      "metadata": {
        "id": "T5dE7-GIdB14"
      },
      "id": "T5dE7-GIdB14"
    },
    {
      "cell_type": "markdown",
      "source": [
        "Ans-> C) The association between two categorical variables"
      ],
      "metadata": {
        "id": "EsFQ47Z_Yiya"
      },
      "id": "EsFQ47Z_Yiya"
    },
    {
      "cell_type": "markdown",
      "source": [
        "**The two-sample t-test assumes:**\n",
        "\n",
        "    A) Equal variances between the two groups\n",
        "    B) Unequal variances between the two groups\n",
        "    C) No assumption about variances\n",
        "    D) The samples are paired"
      ],
      "metadata": {
        "id": "TbkJYhyNdIa0"
      },
      "id": "TbkJYhyNdIa0"
    },
    {
      "cell_type": "markdown",
      "source": [
        "Ans-> A) Equal variances between the two groups"
      ],
      "metadata": {
        "id": "urtV6E3nYrlk"
      },
      "id": "urtV6E3nYrlk"
    },
    {
      "cell_type": "markdown",
      "id": "6b85eac4-9fa5-4a6e-8944-31cfdb85b1f7",
      "metadata": {
        "id": "6b85eac4-9fa5-4a6e-8944-31cfdb85b1f7"
      },
      "source": [
        "# Python Basic Exercise\n",
        "\n",
        "### Solve any three"
      ]
    },
    {
      "cell_type": "markdown",
      "id": "daf26a58-0326-40aa-bdb6-8d765abaa5e8",
      "metadata": {
        "id": "daf26a58-0326-40aa-bdb6-8d765abaa5e8"
      },
      "source": [
        "Que 1 -> You have a list a=[1,2,3,6,9,7,4,5,8], and you have to find the kth element from the list. This means I want to find the 2nd largest number from the list. Similarly, you have to create a function where I pass a number, say 4, and the function will return the 4th largest number from the list."
      ]
    },
    {
      "cell_type": "code",
      "execution_count": 1,
      "id": "6f85b635-779f-4c1f-be25-fed8ad6ca5b0",
      "metadata": {
        "id": "6f85b635-779f-4c1f-be25-fed8ad6ca5b0",
        "colab": {
          "base_uri": "https://localhost:8080/"
        },
        "outputId": "3cc610c9-62a3-4a75-e1fa-5d8f875977f5"
      },
      "outputs": [
        {
          "output_type": "stream",
          "name": "stdout",
          "text": [
            "The 2-th largest number is: 8\n",
            "The 4-th largest number is: 6\n"
          ]
        }
      ],
      "source": [
        "def find_kth_largest(a, k):\n",
        "    a_sorted = sorted(a, reverse=True)\n",
        "    return a_sorted[k-1]\n",
        "\n",
        "a = [1, 2, 3, 6, 9, 7, 4, 5, 8]\n",
        "\n",
        "k = 2\n",
        "print(f\"The {k}-th largest number is:\", find_kth_largest(a, k))\n",
        "\n",
        "k = 4\n",
        "print(f\"The {k}-th largest number is:\", find_kth_largest(a, k))"
      ]
    },
    {
      "cell_type": "markdown",
      "id": "bb4ffbe7-2bd2-47fe-be13-41ce39dde5a7",
      "metadata": {
        "id": "bb4ffbe7-2bd2-47fe-be13-41ce39dde5a7"
      },
      "source": [
        "Que 2-> you have a list [1,8,0,6,4,0,6,0,0,2,0], You need to shift all the zeros to the right , without using any inbuilt function."
      ]
    },
    {
      "cell_type": "code",
      "execution_count": 2,
      "id": "39017c11-1084-4c96-b229-83ba71c15b98",
      "metadata": {
        "id": "39017c11-1084-4c96-b229-83ba71c15b98",
        "colab": {
          "base_uri": "https://localhost:8080/"
        },
        "outputId": "933372b0-2921-440b-b575-775fefe144b6"
      },
      "outputs": [
        {
          "output_type": "stream",
          "name": "stdout",
          "text": [
            "List after shifting zeros to the right: [1, 8, 6, 4, 6, 2, 0, 0, 0, 0, 0]\n"
          ]
        }
      ],
      "source": [
        "def shift_zeros_to_right(lst):\n",
        "    non_zero_elements = []\n",
        "    zero_count = 0\n",
        "    #creating new list\n",
        "    # appending all non zero elements to it\n",
        "    # counting the number of zeros parallely\n",
        "    #then adding the zeros at end on new list\n",
        "    for num in lst:\n",
        "        if num != 0:\n",
        "            non_zero_elements.append(num)\n",
        "        else:\n",
        "            zero_count += 1\n",
        "\n",
        "\n",
        "    non_zero_elements.extend([0] * zero_count)\n",
        "    return non_zero_elements\n",
        "\n",
        "\n",
        "lst = [1, 8, 0, 6, 4, 0, 6, 0, 0, 2, 0]\n",
        "result = shift_zeros_to_right(lst)\n",
        "print(\"List after shifting zeros to the right:\", result)"
      ]
    },
    {
      "cell_type": "markdown",
      "id": "8f6bb4bc-9d9f-4f99-ad34-489934da6fb8",
      "metadata": {
        "id": "8f6bb4bc-9d9f-4f99-ad34-489934da6fb8"
      },
      "source": [
        "Que 3->Reverse a string without using any inbuilt function like slicing."
      ]
    },
    {
      "cell_type": "code",
      "execution_count": 4,
      "id": "3cfc4b48-15e0-4fcf-8cb7-1c6171d407e6",
      "metadata": {
        "id": "3cfc4b48-15e0-4fcf-8cb7-1c6171d407e6",
        "colab": {
          "base_uri": "https://localhost:8080/"
        },
        "outputId": "7807e59e-03b1-46f9-8e25-4b13fd3556a1"
      },
      "outputs": [
        {
          "output_type": "stream",
          "name": "stdout",
          "text": [
            "Reversed string: olleh\n"
          ]
        }
      ],
      "source": [
        "def reverse_string(s):\n",
        "    char_list = list(s)\n",
        "    left = 0\n",
        "    right = len(char_list) - 1\n",
        "\n",
        "    #swap the left and right\n",
        "    while left < right:\n",
        "        char_list[left], char_list[right] = char_list[right], char_list[left]\n",
        "        left += 1\n",
        "        right -= 1\n",
        "\n",
        "    return ''.join(char_list)\n",
        "\n",
        "\n",
        "s = \"hello\"\n",
        "reversed_s = reverse_string(s)\n",
        "print(\"Reversed string:\", reversed_s)"
      ]
    },
    {
      "cell_type": "markdown",
      "id": "58b475ca-89a9-4074-adfa-1b31e6609aaf",
      "metadata": {
        "id": "58b475ca-89a9-4074-adfa-1b31e6609aaf"
      },
      "source": [
        "Que 4-> To find common prefix in array of strings\n",
        "\n",
        "array= ['Abce','Abcjhgj','Abcf']\n",
        "\n",
        "\n",
        "The common prefix among the strings 'Abce', 'Abcjhgj', and 'Abcf' is 'Abc'. So, the common prefix is 'Abc'."
      ]
    },
    {
      "cell_type": "code",
      "execution_count": 5,
      "id": "80d7e6ea-574b-4135-aa87-a042e9956390",
      "metadata": {
        "id": "80d7e6ea-574b-4135-aa87-a042e9956390",
        "colab": {
          "base_uri": "https://localhost:8080/"
        },
        "outputId": "5af80e34-cb2f-4a91-957c-8af69c9fdf7f"
      },
      "outputs": [
        {
          "output_type": "stream",
          "name": "stdout",
          "text": [
            "Common prefix: Abc\n"
          ]
        }
      ],
      "source": [
        "def find_common_prefix(arr):\n",
        "    if not arr:\n",
        "        return \"\"\n",
        "\n",
        "    # Start with the first string as the initial common prefix\n",
        "    # Iterate over the rest of the strings\n",
        "    # Reduce the prefix length while it does not match the start of the current string\n",
        "    prefix = arr[0]\n",
        "\n",
        "    for string in arr[1:]:\n",
        "        while not string.startswith(prefix):\n",
        "            prefix = prefix[:-1]\n",
        "            if not prefix:\n",
        "                return \"\"\n",
        "\n",
        "    return prefix\n",
        "\n",
        "\n",
        "array = ['Abce', 'Abcjhgj', 'Abcf']\n",
        "common_prefix = find_common_prefix(array)\n",
        "print(\"Common prefix:\", common_prefix)\n"
      ]
    },
    {
      "cell_type": "markdown",
      "id": "91637a40-f4ed-414d-9c71-c82374cb13a3",
      "metadata": {
        "id": "91637a40-f4ed-414d-9c71-c82374cb13a3"
      },
      "source": [
        "Que 5- Given the list l = [1,2,0,1,2,0,0], I want the output to be ans = [0,0,0,2,2,1,1] without using any inbuilt function"
      ]
    },
    {
      "cell_type": "code",
      "execution_count": 9,
      "id": "ea7b0b77-9ff4-4f73-9a99-129c665fb961",
      "metadata": {
        "id": "ea7b0b77-9ff4-4f73-9a99-129c665fb961",
        "colab": {
          "base_uri": "https://localhost:8080/"
        },
        "outputId": "983042dd-cb02-4360-d6a2-9550d405760f"
      },
      "outputs": [
        {
          "output_type": "stream",
          "name": "stdout",
          "text": [
            "Sorted list: [0, 0, 0, 2, 2, 1, 1]\n"
          ]
        }
      ],
      "source": [
        "def custom_sort(arr):\n",
        "\n",
        "    count_0 = 0\n",
        "    count_1 = 0\n",
        "    count_2 = 0\n",
        "\n",
        "    # Count occurrences of 0, 1, and 2\n",
        "    # Rearrange the sorted list based on counts\n",
        "    for num in arr:\n",
        "        if num == 0:\n",
        "            count_0 += 1\n",
        "        elif num == 1:\n",
        "            count_1 += 1\n",
        "        elif num == 2:\n",
        "            count_2 += 1\n",
        "\n",
        "\n",
        "    sorted_arr = [0] * count_0 + [2] * count_2 + [1] * count_1\n",
        "\n",
        "    return sorted_arr\n",
        "\n",
        "\n",
        "l = [1, 2, 0, 1, 2, 0, 0]\n",
        "sorted_list = custom_sort(l)\n",
        "print(\"Sorted list:\", sorted_list)"
      ]
    },
    {
      "cell_type": "markdown",
      "id": "e17c874f-ffe2-416f-af6c-2ba6e57a0bfd",
      "metadata": {
        "id": "e17c874f-ffe2-416f-af6c-2ba6e57a0bfd"
      },
      "source": [
        "# Statistics Theory Question\n"
      ]
    },
    {
      "cell_type": "markdown",
      "id": "0b748385-fe05-40f2-adc8-5b643f95b906",
      "metadata": {
        "id": "0b748385-fe05-40f2-adc8-5b643f95b906"
      },
      "source": [
        "Que 1- What is Central Limit Theoram ? Explain."
      ]
    },
    {
      "cell_type": "markdown",
      "source": [
        "For a large enough sample size, the distribution of the sample mean will be approximately normal, even if the population distribution is not. The sample mean's distribution will have the same mean as the population mean and a standard deviation of the population standard deviation divided by the square root of the sample size."
      ],
      "metadata": {
        "id": "C6SdvamtcGMr"
      },
      "id": "C6SdvamtcGMr"
    },
    {
      "cell_type": "markdown",
      "id": "8466b61e-24b9-4567-bd63-04d8fb5360ad",
      "metadata": {
        "id": "8466b61e-24b9-4567-bd63-04d8fb5360ad"
      },
      "source": [
        "Que 2- What is CDF(Comulative density function). Explain with mathematics."
      ]
    },
    {
      "cell_type": "markdown",
      "source": [
        "The Cumulative Distribution Function (CDF) gives the probability that a random variable X is less than or equal to a certain value x.\n",
        "- CDF(X) = P(X<=x) is probability that X will take value less than or equal to x"
      ],
      "metadata": {
        "id": "L4-lIFIkcdT9"
      },
      "id": "L4-lIFIkcdT9"
    },
    {
      "cell_type": "markdown",
      "id": "6ada9cfc-cb42-4e64-b74e-7befd45cbe4a",
      "metadata": {
        "id": "6ada9cfc-cb42-4e64-b74e-7befd45cbe4a"
      },
      "source": [
        "Que 3- What is Anova test. how we can calculate behind the scene ?"
      ]
    },
    {
      "cell_type": "markdown",
      "source": [
        "Annova tests if there are significant differences between the means of three or more groups.\n",
        "- Steps\n",
        "  - calculate group means\n",
        "  - measure how group means differ from the overall mean (SSB)\n",
        "  - measure variability within each group (SSW)\n",
        "  - find 'Between grp mean Sq'(MSB=SSB/k-1) and 'Within grp mean Sq'(MSW=SSW/n-k)\n",
        "  - F = (MSB/MSW)"
      ],
      "metadata": {
        "id": "XP2vnRojdTeD"
      },
      "id": "XP2vnRojdTeD"
    },
    {
      "cell_type": "markdown",
      "id": "dffe2da1-3353-4865-85eb-fff2caea349a",
      "metadata": {
        "id": "dffe2da1-3353-4865-85eb-fff2caea349a"
      },
      "source": [
        "Que 4-  What is Chi-Square test. how we will calculate behind the scene."
      ]
    },
    {
      "cell_type": "markdown",
      "source": [
        "The Chi-Square test assesses how well observed data fits a theoretical distribution or tests the independence of two categorical variables.\n",
        "- X^2 = summation [ (Oi-Ei)^2 /Ei ]\n",
        "- to see the critical values using chi-square distribution table, we need 2 values\n",
        "  - degree of freedom\n",
        "  - alpha level\n",
        "- if critical score> test score --> we cannot reject null hypothesis"
      ],
      "metadata": {
        "id": "vf_42-Hker-M"
      },
      "id": "vf_42-Hker-M"
    },
    {
      "cell_type": "markdown",
      "id": "8fec219a-1fe3-41db-a2ba-8a0b5e0b4a43",
      "metadata": {
        "id": "8fec219a-1fe3-41db-a2ba-8a0b5e0b4a43"
      },
      "source": [
        "Que 5-  What is the difference between inferential and descriptive statistics."
      ]
    },
    {
      "cell_type": "markdown",
      "source": [
        "Descriptive Statistics:\n",
        "\n",
        "  - Purpose: Summarize and describe the features of a data set.\n",
        "  - Methods: Mean, median, mode, variance, standard deviation.\n",
        "  - Application: Applied directly to the data you have.\n",
        "\n",
        "Inferential Statistics:\n",
        "\n",
        "  - Purpose: Make predictions or inferences about a population based on a sample.\n",
        "  - Methods: Hypothesis testing\n",
        "  - Application: Uses sample data to estimate and generalize to a larger population."
      ],
      "metadata": {
        "id": "qS6YxE6QgKwz"
      },
      "id": "qS6YxE6QgKwz"
    },
    {
      "cell_type": "markdown",
      "id": "d7a2df48-9875-4b6b-ba26-feee4e03b1d5",
      "metadata": {
        "id": "d7a2df48-9875-4b6b-ba26-feee4e03b1d5"
      },
      "source": [
        "Que 6- Explain any 2 distribution."
      ]
    },
    {
      "cell_type": "markdown",
      "source": [
        "1. Normal Distribution:\n",
        "\n",
        "  - Shape: Symmetrical, bell-shaped curve.\n",
        "  - Characteristics: Mean = Median = Mode; defined by its mean and standard deviation. It describes how data is distributed around the mean, with most values falling close to the mean and fewer values as you move away.\n",
        "\n",
        "2. Uniform Distribution:\n",
        "\n",
        "  - Shape: Flat, rectangular shape.\n",
        "  - Characteristics: All outcomes are equally likely within a specified range. For example, in a continuous uniform distribution between and b, the probability density function is constant within this range and zero outside it."
      ],
      "metadata": {
        "id": "CHKXEgoHgjGD"
      },
      "id": "CHKXEgoHgjGD"
    },
    {
      "cell_type": "markdown",
      "id": "5c2a1d3b-bea9-4de6-8018-a120e2d36528",
      "metadata": {
        "id": "5c2a1d3b-bea9-4de6-8018-a120e2d36528"
      },
      "source": [
        "# Statistics Mathematics  Question\n",
        "\n"
      ]
    },
    {
      "cell_type": "markdown",
      "id": "40749fa8-a06d-4d9c-8864-4bb8b24599a3",
      "metadata": {
        "id": "40749fa8-a06d-4d9c-8864-4bb8b24599a3"
      },
      "source": [
        "Que 1 - if I generate heights for 1000 people from a normal distribution, what would be the probability for a new person to have a height of 70 inches using (CDF) then z-score table? take height in inches.\n",
        "\n",
        "#### Mean height (in inches) of the population\n",
        "mean_height = 66\n",
        "\n",
        "#### Standard deviation of heights (in inches) of the population\n",
        "std_dev_height = 3\n",
        "\n",
        "\n",
        "##### Generate data using this code\n",
        "###### Generate heights for 1000 people from a normal distribution\n",
        "heights = np.random.normal(mean_height, std_dev_height, 1000)))"
      ]
    },
    {
      "cell_type": "code",
      "execution_count": 11,
      "id": "e0b6c3a7-4b11-403f-860d-0beab1408712",
      "metadata": {
        "id": "e0b6c3a7-4b11-403f-860d-0beab1408712",
        "colab": {
          "base_uri": "https://localhost:8080/"
        },
        "outputId": "44ccd3ea-db91-4f71-eacf-81d00cad9d6e"
      },
      "outputs": [
        {
          "output_type": "stream",
          "name": "stdout",
          "text": [
            "Probability:  90.87887802741321 %\n"
          ]
        }
      ],
      "source": [
        "import scipy.stats as st\n",
        "\n",
        "mean_height = 66\n",
        "std_dev_height = 3\n",
        "height = 70\n",
        "\n",
        "# Calculating the  Z-score\n",
        "z_score = (height - mean_height) / std_dev_height\n",
        "\n",
        "# Calculate CDF for the Z-score\n",
        "probability = st.norm.cdf(z_score)\n",
        "print(\"Probability: \",probability*100,\"%\")"
      ]
    },
    {
      "cell_type": "markdown",
      "id": "99a22f4f-7737-4ef9-9ad0-fb7bd8e0ba46",
      "metadata": {
        "id": "99a22f4f-7737-4ef9-9ad0-fb7bd8e0ba46"
      },
      "source": [
        "Que 2-  Suppose a fitness center manager anticipates the attendance for a particular yoga class throughout the week. Based on historical data and other factors, they estimate the expected attendance in numbers:\n",
        "\n",
        "### Expected Attendance:\n",
        "\n",
        "Monday: 40\n",
        "\n",
        "Tuesday: 45\n",
        "\n",
        "Wednesday: 38\n",
        "\n",
        "Thursday: 50\n",
        "\n",
        "Friday: 55\n",
        "\n",
        "Saturday: 60\n",
        "\n",
        "Sunday: 65\n",
        "\n",
        "However, after the week concludes, the actual attendance is recorded:\n",
        "\n",
        "\n",
        "\n",
        "### Observed (Actual) Attendance:\n",
        "\n",
        "\n",
        "\n",
        "Monday: 38\n",
        "\n",
        "Tuesday: 43\n",
        "\n",
        "Wednesday: 40\n",
        "\n",
        "Thursday: 48\n",
        "\n",
        "Friday: 52\n",
        "\n",
        "Saturday: 58\n",
        "\n",
        "Sunday: 62\n",
        "\n",
        "Ho: There is no significant difference between the expected and observed attendance for the yoga class throughout the week.\n",
        "\n",
        "Ha: There is a significant difference between the expected and observed attendance for the yoga class throughout the week.\n",
        "\n",
        "#### Use chi-square test *Statistical Tools*"
      ]
    },
    {
      "cell_type": "code",
      "execution_count": 13,
      "id": "06f2df44-24f4-4314-900d-d03f02823ceb",
      "metadata": {
        "id": "06f2df44-24f4-4314-900d-d03f02823ceb",
        "colab": {
          "base_uri": "https://localhost:8080/"
        },
        "outputId": "5de9a162-0dbc-4c52-e0eb-47babcb1b5c7"
      },
      "outputs": [
        {
          "output_type": "stream",
          "name": "stdout",
          "text": [
            "Chi-Square Statistic: 0.3467729187346415\n",
            "P-value: 0.9992367516752689\n"
          ]
        }
      ],
      "source": [
        "import scipy.stats as st\n",
        "\n",
        "expected = [40, 45, 38, 50, 55, 60, 65]\n",
        "observed = [38, 43, 40, 48, 52, 58, 62]\n",
        "\n",
        "sum_observed = sum(observed)  # Should be 399\n",
        "sum_expected = sum(expected)  # Should be 373\n",
        "\n",
        "expected_normalized = [e * (sum_observed / sum_expected) for e in expected]\n",
        "\n",
        "# Chi-Square Statistic and p-value\n",
        "chi2_statistic, p_value = st.chisquare(f_obs=observed, f_exp=expected_normalized)\n",
        "print(f\"Chi-Square Statistic: {chi2_statistic}\")\n",
        "print(f\"P-value: {p_value}\")"
      ]
    },
    {
      "cell_type": "markdown",
      "source": [
        "here p-value is greater than 0.05 --> hence we cannot reject null hypothesis"
      ],
      "metadata": {
        "id": "Bt3EcHr8iM8x"
      },
      "id": "Bt3EcHr8iM8x"
    },
    {
      "cell_type": "markdown",
      "id": "a651ae03-9b6a-4af4-a3e9-97b90bb8913e",
      "metadata": {
        "id": "a651ae03-9b6a-4af4-a3e9-97b90bb8913e"
      },
      "source": [
        "Que3 -> Calculate anova test\n",
        "\n",
        "\n",
        "\n",
        "\n",
        "\n",
        "    | Student_ID | Semester | Total_Marks |\n",
        "    |------------|----------|-------------|\n",
        "    | 1          | Fall     | 85          |\n",
        "    | 2          | Fall     | 78          |\n",
        "    | 3          | Fall     | 92          |\n",
        "    | 4          | Spring   | 88          |\n",
        "    | 5          | Spring   | 75          |\n",
        "    | 6          | Spring   | 82          |\n",
        "    | 7          | Summer   | 90          |\n",
        "    | 8          | Summer   | 86          |\n",
        "    | 9          | Summer   | 79          |    \n",
        "\n",
        "\n",
        "Null Hypothesis (Ho): The average marks of students in each semester are approximately equal.\n",
        "\n",
        "Alternative Hypothesis (Ha): The average marks of students in at least one semester are different."
      ]
    },
    {
      "cell_type": "code",
      "execution_count": 14,
      "id": "f4680b16-587c-4bec-809e-bfe473b7538a",
      "metadata": {
        "id": "f4680b16-587c-4bec-809e-bfe473b7538a",
        "colab": {
          "base_uri": "https://localhost:8080/"
        },
        "outputId": "a7ea89ab-9171-4df1-ea64-d1b95309e1ce"
      },
      "outputs": [
        {
          "output_type": "stream",
          "name": "stdout",
          "text": [
            "           df      sum_sq    mean_sq        F   PR(>F)\n",
            "Semester  2.0   22.222222  11.111111  0.27248  0.77043\n",
            "Residual  6.0  244.666667  40.777778      NaN      NaN\n"
          ]
        }
      ],
      "source": [
        "import pandas as pd\n",
        "import statsmodels.api as sm\n",
        "from statsmodels.formula.api import ols\n",
        "\n",
        "data = {\n",
        "    'Student_ID': [1, 2, 3, 4, 5, 6, 7, 8, 9],\n",
        "    'Semester': ['Fall', 'Fall', 'Fall', 'Spring', 'Spring', 'Spring', 'Summer', 'Summer', 'Summer'],\n",
        "    'Total_Marks': [85, 78, 92, 88, 75, 82, 90, 86, 79]\n",
        "}\n",
        "df = pd.DataFrame(data)\n",
        "\n",
        "# ANOVA\n",
        "model = ols('Total_Marks ~ Semester', data=df).fit()\n",
        "anova_table = sm.stats.anova_lm(model, typ=1)\n",
        "\n",
        "print(anova_table)"
      ]
    },
    {
      "cell_type": "markdown",
      "source": [
        "since p-value (0.77043) is greater than 0.05, we fail to reject the null hypothesis"
      ],
      "metadata": {
        "id": "5oAApbkLi0yc"
      },
      "id": "5oAApbkLi0yc"
    }
  ],
  "metadata": {
    "kernelspec": {
      "display_name": "Python 3 (ipykernel)",
      "language": "python",
      "name": "python3"
    },
    "language_info": {
      "codemirror_mode": {
        "name": "ipython",
        "version": 3
      },
      "file_extension": ".py",
      "mimetype": "text/x-python",
      "name": "python",
      "nbconvert_exporter": "python",
      "pygments_lexer": "ipython3",
      "version": "3.10.12"
    },
    "colab": {
      "provenance": []
    }
  },
  "nbformat": 4,
  "nbformat_minor": 5
}